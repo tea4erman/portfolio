{
 "cells": [
  {
   "cell_type": "markdown",
   "metadata": {},
   "source": [
    "# Download the reports and data"
   ]
  },
  {
   "cell_type": "code",
   "execution_count": 168,
   "metadata": {},
   "outputs": [],
   "source": [
    "import pandas as pd\n",
    "import eikon as ek\n",
    "ek.set_app_key('44272d529e9f430e925fe7017210512be9ade4d6')"
   ]
  },
  {
   "cell_type": "code",
   "execution_count": 62,
   "metadata": {},
   "outputs": [],
   "source": [
    "def get_companies(country):\n",
    "    #syntax = 'SCREEN(U(IN(Equity(active,public,private,primary))/*UNV:Public*/), BETWEEN(TR.EmployeesscalYrEndPeriodToPeriodAvg(Period=FY0),0.00,1000.00), IN(TR.HQCountryCode, \"'+country+'\"))'\n",
    "    syntax = 'SCREEN(U(IN(Equity(active,public,private,primary))/*UNV:Public*/),  TR.CSRReporting(SDate=0FY, EDate=-10, Period=FY0)==true,  IN(TR.HQCountryCode, \"'+country+'\"))'\n",
    "    fields = ['TR.CommonName', 'TR.PrimaryQuote', 'TR.HeadquartersCountry', 'TR.TRBCEconomicSector', 'TR.TRBCBusinessSector', 'TR.TRBCIndustryGroup', 'TR.TRBCIndustry']\n",
    "    companies, e = ek.get_data(syntax, fields)\n",
    "    return companies\n",
    "\n",
    "def get_data(companies):\n",
    "    fields = ['TR.CommonName', 'TR.HeadquartersCountry', \n",
    "              'TR.TRBCEconomicSector', 'TR.TRBCBusinessSector', 'TR.TRBCIndustryGroup', 'TR.TRBCIndustry',\n",
    "              'TR.TRESGScore', 'TR.TRESGResourceUseScore' , 'TR.TRESGEmissionsScore' 'TR.TRESGInnovationScore',\n",
    "              'TR.TRESGWorkforceScore', 'TR.TRESGHumanRightsScore', 'TR.TRESGCommunityScore', \n",
    "              'TR.TRESGProductResponsibilityScore', 'TR.TRESGManagementScore', 'TR.TRESGShareholdersScore', \n",
    "              'TR.TRESGCSRStrategyScore', 'TR.SocialPillarScore', 'TR.GovernancePillarScore', 'TR.EnvironmentPillarScore',\n",
    "              'TR.EmployeesscalYrEndPeriodToPeriodAvg', 'TR.CSRReportingScope',\n",
    "              'TR.CSRReportingScope.date', \n",
    "              'TR.CSRReportingScope(AddSource=True).esgsourcetitle',\n",
    "              'TR.CSRReportingScope(AddSource=True).esgsourceurl',\n",
    "              'TR.CSRReportingScope(AddSource=True).esgupdatedate',\n",
    "              'TR.CSRReportingScope(AddSource=True).fperiod',\n",
    "              'TR.ROATotalAssetsPercent', 'TR.ROEPercent', 'TR.TotalReturn']\n",
    "    params = {'Period':'FY0', 'Frq' : 'FY', 'SDate' : '0', 'EDate' : '-10', 'CH' : 'Fd', 'RH' : 'IN', 'NULL': 'NA'}\n",
    "    ESGscores, e = ek.get_data(instruments = companies, fields = fields, parameters = params)\n",
    "    return ESGscores\n",
    "\n",
    "def get_new_data(companies):\n",
    "    fields = ['TR.CSRReportingScope',\n",
    "              'TR.CSRReportingScope(AddSource=True).esgsourcepage',\n",
    "              'TR.CSRReportingScope.esgsourcetitle',\n",
    "              'TR.CSRReportingScope.esgsourceurl',\n",
    "              'TR.CSRReportingScope.fperiod'\n",
    "              ]\n",
    "    params = {'Period':'FY0', 'Frq' : 'FY', 'SDate' : '0', 'EDate' : '-10', 'CH' : 'Fd', 'RH' : 'IN', 'NULL': 'NA'}\n",
    "    ESGscores, e = ek.get_data(instruments = companies, fields = fields, parameters = params)\n",
    "    return ESGscores\n",
    "\n",
    "#\n",
    "#              'TR.CSRReportingScope(AddSource=True).esgsourcepage',\n",
    "#              'TR.CSRReportingScope(AddSource=True).esgsourcetitle',\n",
    "#              \n",
    "#              'TR.CSRReportingScope(AddSource=True).esgfperiod',\n",
    "#              'TR.CSRReportingScope(AddSource=True).updatedate',\n",
    "\n",
    "#    'TR.CSRReporting(Period=FY0).date',\n",
    "#   'TR.CSRReporting(Period=FY0).fperiod',\n",
    "#    'TR.CSRReporting(Period=FY0).rfperiod',\n",
    "#    'TR.CSRReporting(Period=FY0).instrument',\n",
    "#    'TR.CSRReporting(Period=FY0).esgsourcepage',\n",
    "#    'TR.CSRReporting(Period=FY0).periodenddate',\n",
    "#    'TR.CSRReporting(Period=FY0).periodisincomplete',\n",
    "#    'TR.CSRReporting(Period=FY0).esgsourceurl',\n",
    "#    'TR.CSRReportingScope(AddSource=True).esgsourceurl'"
   ]
  },
  {
   "cell_type": "code",
   "execution_count": 53,
   "metadata": {},
   "outputs": [],
   "source": [
    "countries = ['AT','BE', 'BG', 'HR', 'CY', 'CZ', 'DK', 'EE', 'FI', 'FR', 'DE', \n",
    "             'GR', 'HU', 'IE', 'IT', 'LV', 'LT', 'LU', 'MT', 'NL', 'PL', 'PT', \n",
    "             'RO', 'SK', 'SI', 'ES', 'SE']\n",
    "cntrs = '\", \"' .join(str(x) for x in countries)\n",
    "companies = get_companies(cntrs)\n",
    "companies_list = companies.iloc[:,2].to_list()\n",
    "companies_list = list(filter(lambda a: a != \"\", companies_list))"
   ]
  },
  {
   "cell_type": "code",
   "execution_count": 100,
   "metadata": {},
   "outputs": [],
   "source": [
    "data = get_data(companies_list)\n",
    "data = data[data['URL']!='']\n",
    "data.Title = [titl.lower() for titl in data.Title]\n",
    "data['Date'] = pd.to_datetime(data['Financial Period Absolute'], format = 'FY%Y').dt.year\n",
    "data = data.reset_index(drop=True)\n"
   ]
  },
  {
   "cell_type": "code",
   "execution_count": 102,
   "metadata": {},
   "outputs": [],
   "source": [
    "file_name1 = r'C:\\Thesis\\Data\\Data.pkl'\n",
    "data.to_pickle(file_name1)"
   ]
  },
  {
   "cell_type": "markdown",
   "metadata": {},
   "source": [
    "# Download reports"
   ]
  },
  {
   "cell_type": "code",
   "execution_count": 1,
   "metadata": {},
   "outputs": [],
   "source": [
    "import urllib\n",
    "\n",
    "import pandas as pd\n",
    "\n",
    "from io import StringIO\n",
    "\n",
    "from pdfminer.converter import TextConverter\n",
    "from pdfminer.layout import LAParams\n",
    "from pdfminer.pdfdocument import PDFDocument\n",
    "from pdfminer.pdfinterp import PDFResourceManager, PDFPageInterpreter\n",
    "from pdfminer.pdfpage import PDFPage\n",
    "from pdfminer.pdfparser import PDFParser\n",
    "\n",
    "import pysentiment2 as ps\n",
    "\n",
    "import os\n"
   ]
  },
  {
   "cell_type": "code",
   "execution_count": 14,
   "metadata": {},
   "outputs": [],
   "source": [
    "file_name1 = r'C:\\Thesis\\Data\\Data.pkl'\n",
    "data = pd.read_pickle(file_name1)\n"
   ]
  },
  {
   "cell_type": "code",
   "execution_count": 2,
   "metadata": {},
   "outputs": [],
   "source": [
    "def read_report(report):\n",
    "    output_string = StringIO()\n",
    "    with open(report, 'rb') as in_file:\n",
    "        parser = PDFParser(in_file)\n",
    "        doc = PDFDocument(parser)\n",
    "        rsrcmgr = PDFResourceManager()\n",
    "        device = TextConverter(rsrcmgr, output_string, laparams=LAParams())\n",
    "        interpreter = PDFPageInterpreter(rsrcmgr, device)\n",
    "        for page in PDFPage.create_pages(doc):\n",
    "            interpreter.process_page(page)\n",
    "    text = output_string.getvalue()\n",
    "    \n",
    "    return text\n",
    "\n",
    "def lm_sentiment(text):\n",
    "    lm = ps.LM()\n",
    "    tokens = lm.tokenize(text)\n",
    "    sentiment = lm.get_score(tokens)\n",
    "    return sentiment\n",
    "\n",
    "def hiv_sentiment(text):\n",
    "    hiv4 = ps.HIV4()\n",
    "    tokens = hiv4.tokenize(text)\n",
    "    sentiment = hiv4.get_score(tokens)\n",
    "    return sentiment"
   ]
  },
  {
   "cell_type": "code",
   "execution_count": 56,
   "metadata": {},
   "outputs": [],
   "source": [
    "data['filename'] = None\n",
    "data['downloaded'] = None\n",
    "data['reports'] = None\n",
    "data['polarity_LM'] = None\n",
    "data['subjectivity_LM'] = None\n",
    "data['polarity_HIV'] = None\n",
    "data['subjectivity_HIV'] = None\n"
   ]
  },
  {
   "cell_type": "code",
   "execution_count": 3,
   "metadata": {},
   "outputs": [],
   "source": [
    "file_name = r'C:\\Thesis\\Data\\DataSent.pkl'\n",
    "data = pd.read_pickle(file_name)\n"
   ]
  },
  {
   "cell_type": "code",
   "execution_count": 4,
   "metadata": {},
   "outputs": [],
   "source": [
    "#Exercise code in steps\n",
    "\n",
    "step = 100\n",
    "\n",
    "for n in range(64,80):\n",
    "    begin = n*step\n",
    "\n",
    "    file_name = r'C:\\Thesis\\Data\\DataSent.pkl'\n",
    "    data = pd.read_pickle(file_name)\n",
    "\n",
    "    for i, url in enumerate(data.URL.iloc[begin:begin+step]):\n",
    "        link = url\n",
    "        comp = data.Instrument.iloc[begin+i]\n",
    "        year = data.Date.iloc[begin+i]\n",
    "        filename = r'C:\\Thesis\\Reports\\{}.pdf'.format(str(str(begin+i)+comp+str(year)))\n",
    "        #data.loc[i,'filename']=filename\n",
    "\n",
    "        if '.pdf' in url:\n",
    "        \n",
    "            try: \n",
    "                urllib.request.urlretrieve(link, filename)\n",
    "                data.loc[begin+i,'downloaded']='success'\n",
    "\n",
    "                try: \n",
    "                    text = read_report(filename)\n",
    "\n",
    "                    score1 = lm_sentiment(text)\n",
    "                    score2 = hiv_sentiment(text)\n",
    "\n",
    "                    data.loc[begin+i,'reports']=text\n",
    "                    data.loc[begin+i,'polarity_LM']=score1['Polarity']\n",
    "                    data.loc[begin+i,'subjectivity_LM']=score1['Subjectivity']\n",
    "                    data.loc[begin+i,'polarity_HIV']=score2['Polarity']\n",
    "                    data.loc[begin+i,'subjectivity_HIV']=score2['Subjectivity']\n",
    "\n",
    "\n",
    "                except: \n",
    "                    data.loc[begin+i,'downloaded']='cannot read file'\n",
    "\n",
    "\n",
    "                os.remove(filename)\n",
    "\n",
    "            except: \n",
    "                data.loc[begin+i,'downloaded']='failed'\n",
    "                \n",
    "        else:\n",
    "            data.loc[begin+i,'downloaded']='no pdf found'\n",
    "\n",
    "    data.to_pickle(file_name)"
   ]
  },
  {
   "cell_type": "code",
   "execution_count": 5,
   "metadata": {},
   "outputs": [],
   "source": [
    "#just to check\n",
    "\n",
    "i = 623\n",
    "link = data.URL.iloc[i]\n",
    "comp = data.Instrument.iloc[i]\n",
    "year = data.Date.iloc[i]\n",
    "filename = r'C:\\Thesis\\Reports\\{}.pdf'.format(str(str(i)+comp+str(year)))\n",
    "urllib.request.urlretrieve(link, filename)\n",
    "data.loc[i,'downloaded']='success'\n",
    "text = read_report(filename)\n",
    "        \n",
    "score1 = lm_sentiment(text)\n",
    "score2 = hiv_sentiment(text)\n"
   ]
  },
  {
   "cell_type": "code",
   "execution_count": 31,
   "metadata": {},
   "outputs": [],
   "source": [
    "begin=600\n",
    "step=23\n",
    "for i, url in enumerate(data.URL.iloc[begin:begin+step]):\n",
    "    link = url\n",
    "    comp = data.Instrument.iloc[begin+i]\n",
    "    year = data.Date.iloc[begin+i]\n",
    "    filename = r'C:\\Thesis\\Reports\\{}.pdf'.format(str(str(begin+i)+comp+str(year)))\n",
    "    #data.loc[i,'filename']=filename\n",
    "\n",
    "    if 'pdf' in url:\n",
    "        \n",
    "        try: \n",
    "            urllib.request.urlretrieve(link, filename)\n",
    "            data.loc[begin+i,'downloaded']='success'\n",
    "\n",
    "            try: \n",
    "                text = read_report(filename)\n",
    "\n",
    "                score1 = lm_sentiment(text)\n",
    "                score2 = hiv_sentiment(text)\n",
    "\n",
    "                data.loc[begin+i,'reports']=text\n",
    "                data.loc[begin+i,'polarity_LM']=score1['Polarity']\n",
    "                data.loc[begin+i,'subjectivity_LM']=score1['Subjectivity']\n",
    "                data.loc[begin+i,'polarity_HIV']=score2['Polarity']\n",
    "                data.loc[begin+i,'subjectivity_HIV']=score2['Subjectivity']\n",
    "\n",
    "\n",
    "            except: \n",
    "                data.loc[begin+i,'downloaded']='cannot read file'\n",
    "\n",
    "\n",
    "            os.remove(filename)\n",
    "\n",
    "        except: \n",
    "            data.loc[begin+i,'downloaded']='failed'\n",
    "\n",
    "data.to_pickle(file_name)"
   ]
  },
  {
   "cell_type": "code",
   "execution_count": 60,
   "metadata": {},
   "outputs": [],
   "source": [
    "# Exercise code at once\n",
    "\n",
    "for i, url in enumerate(data.URL):\n",
    "    link = url\n",
    "    comp = data.Instrument.iloc[i]\n",
    "    year = data.Date.iloc[i]\n",
    "    filename = r'C:\\Thesis\\Reports\\{}.pdf'.format(str(str(i)+comp+str(year)))\n",
    "    #data.loc[i,'filename']=filename\n",
    "    \n",
    "    try: \n",
    "        urllib.request.urlretrieve(link, filename)\n",
    "        data.loc[i,'downloaded']='success'\n",
    "        text = read_report(filename)\n",
    "        \n",
    "        score1 = lm_sentiment(text)\n",
    "        score2 = hiv_sentiment(text)\n",
    "        \n",
    "        data.loc[i,'reports']=text\n",
    "        data.loc[i,'polarity_LM']=score1['Polarity']\n",
    "        data.loc[i,'subjectivity_LM']=score1['Subjectivity']\n",
    "        data.loc[i,'polarity_HIV']=score2['Polarity']\n",
    "        data.loc[i,'subjectivity_HIV']=score2['Subjectivity']\n",
    "        \n",
    "        os.remove(filename)\n",
    "\n",
    "    except:\n",
    "        data.loc[i,'downloaded']='failed'"
   ]
  },
  {
   "cell_type": "markdown",
   "metadata": {},
   "source": [
    "## Download daily prices"
   ]
  },
  {
   "cell_type": "code",
   "execution_count": null,
   "metadata": {},
   "outputs": [],
   "source": [
    "import pandas as pd\n",
    "import eikon as ek\n",
    "ek.set_app_key('44272d529e9f430e925fe7017210512be9ade4d6')"
   ]
  },
  {
   "cell_type": "code",
   "execution_count": 331,
   "metadata": {},
   "outputs": [],
   "source": [
    "file_name2 = r'C:\\Thesis\\Data\\DataSent.pkl'\n",
    "data_sent = pd.read_pickle(file_name2)\n"
   ]
  },
  {
   "cell_type": "code",
   "execution_count": 170,
   "metadata": {},
   "outputs": [],
   "source": [
    "companies = data_sent.Instrument.drop_duplicates()"
   ]
  },
  {
   "cell_type": "code",
   "execution_count": 171,
   "metadata": {},
   "outputs": [],
   "source": [
    "def get_daily_prices(RICs):\n",
    "    \n",
    "    one_day = datetime.timedelta(days=1)\n",
    "    ten_years = datetime.timedelta(days=3650)\n",
    "    today = datetime.datetime.today()\n",
    "\n",
    "    daily_prices = pd.DataFrame()\n",
    "\n",
    "    for company in RICs:\n",
    "\n",
    "        start_date = datetime.datetime(2013,1,1)\n",
    "\n",
    "        dp = pd.DataFrame()\n",
    "\n",
    "        while start_date < today:\n",
    "            end_date = start_date + ten_years\n",
    "\n",
    "            try:\n",
    "                dp = pd.concat([dp, ek.get_timeseries(rics = company, \n",
    "                                      start_date = start_date, \n",
    "                                      end_date = end_date, \n",
    "                                      fields = ['CLOSE'], interval = 'daily', corax = 'adjusted')])\n",
    "            except:\n",
    "                pass\n",
    "\n",
    "            start_date = end_date + one_day\n",
    "\n",
    "        name = dp.columns.name # get RIC \n",
    "\n",
    "        dp = dp.rename(columns ={'CLOSE':name})  # Rename column in DF as RIC of the security\n",
    "\n",
    "        daily_prices = pd.merge(left = daily_prices, right = dp, how = 'outer', left_index = True, right_index = True)\n",
    "    \n",
    "    return daily_prices"
   ]
  },
  {
   "cell_type": "code",
   "execution_count": 173,
   "metadata": {},
   "outputs": [
    {
     "name": "stderr",
     "output_type": "stream",
     "text": [
      "2021-05-22 18:01:40,791 P[12912] [MainThread 6528] Error with RHA.PA^I11: No data available for the requested date range\n",
      "2021-05-22 18:01:40,794 P[12912] [MainThread 6528] RHA.PA^I11: No data available for the requested date range | \n",
      "2021-05-22 18:01:43,736 P[12912] [MainThread 6528] Error with APRR.PA^L12: No data available for the requested date range\n",
      "2021-05-22 18:01:43,738 P[12912] [MainThread 6528] APRR.PA^L12: No data available for the requested date range | \n",
      "2021-05-22 18:01:45,422 P[12912] [MainThread 6528] Error with DUGLY.PK^C16: No data available for the requested date range\n",
      "2021-05-22 18:01:45,424 P[12912] [MainThread 6528] DUGLY.PK^C16: No data available for the requested date range | \n",
      "2021-05-22 18:02:05,152 P[12912] [MainThread 6528] Error with OCEN.AS^B12: No data available for the requested date range\n",
      "2021-05-22 18:02:05,155 P[12912] [MainThread 6528] OCEN.AS^B12: No data available for the requested date range | \n",
      "2021-05-22 18:02:13,927 P[12912] [MainThread 6528] Error with PAS.MC^C12: No data available for the requested date range\n",
      "2021-05-22 18:02:13,929 P[12912] [MainThread 6528] PAS.MC^C12: No data available for the requested date range | \n",
      "2021-05-22 18:02:14,415 P[12912] [MainThread 6528] Error with CEP.MC^H11: No data available for the requested date range\n",
      "2021-05-22 18:02:14,417 P[12912] [MainThread 6528] CEP.MC^H11: No data available for the requested date range | \n",
      "2021-05-22 18:02:15,404 P[12912] [MainThread 6528] Error with IBR.MC1^K09: Invalid RIC\n",
      "2021-05-22 18:02:15,406 P[12912] [MainThread 6528] IBR.MC1^K09: Invalid RIC | \n",
      "2021-05-22 18:02:22,726 P[12912] [MainThread 6528] Error with CHTR.L^A12: No data available for the requested date range\n",
      "2021-05-22 18:02:22,729 P[12912] [MainThread 6528] CHTR.L^A12: No data available for the requested date range | \n",
      "2021-05-22 18:02:23,256 P[12912] [MainThread 6528] Error with CBE.N^L12: No data available for the requested date range\n",
      "2021-05-22 18:02:23,259 P[12912] [MainThread 6528] CBE.N^L12: No data available for the requested date range | \n",
      "2021-05-22 18:02:30,206 P[12912] [MainThread 6528] Error with TGMG.DE^C12: No data available for the requested date range\n",
      "2021-05-22 18:02:30,207 P[12912] [MainThread 6528] TGMG.DE^C12: No data available for the requested date range | \n"
     ]
    }
   ],
   "source": [
    "daily_prices = get_daily_prices(companies)\n",
    "file_name3 = r'C:\\Thesis\\Data\\DailyPrices.pkl'\n",
    "daily_prices.to_pickle(file_name3)\n"
   ]
  },
  {
   "cell_type": "markdown",
   "metadata": {},
   "source": [
    "## Get modified dates"
   ]
  },
  {
   "cell_type": "code",
   "execution_count": 73,
   "metadata": {},
   "outputs": [],
   "source": [
    "import pandas as pd\n",
    "import requests\n",
    "import os\n",
    "import datetime\n",
    "from dateutil.parser import parse as parsedate"
   ]
  },
  {
   "cell_type": "code",
   "execution_count": 333,
   "metadata": {},
   "outputs": [],
   "source": [
    "file_name2 = r'C:\\Thesis\\Data\\DataSent.pkl'\n",
    "data_sent = pd.read_pickle(file_name2)\n"
   ]
  },
  {
   "cell_type": "code",
   "execution_count": 186,
   "metadata": {},
   "outputs": [],
   "source": [
    "data_main = data_sent[data_sent.downloaded=='success'].reset_index(drop=True)\n",
    "data_main = data_main[['Instrument', 'Company Common Name', 'Country of Headquarters',\n",
    "       'TRBC Economic Sector Name', 'TRBC Business Sector Name',\n",
    "       'TRBC Industry Group Name', 'TRBC Industry Name', 'ESG Score',\n",
    "       'Resource Use Score', 'Workforce Score', 'Human Rights Score',\n",
    "       'Community Score', 'Product Responsibility Score', 'Management Score',\n",
    "       'Shareholders Score', 'CSR Strategy Score', 'Social Pillar Score',\n",
    "       'Governance Pillar Score', 'Environmental Pillar Score',\n",
    "       'Employees, Prd/Prd Avg, FY', 'ESG Reporting Scope', 'Date', 'Title',\n",
    "       'URL', 'Update Date', 'Financial Period Absolute',\n",
    "       'ROA Total Assets, Percent', 'Pretax ROE Total Equity %',\n",
    "       'Total Return', 'downloaded', 'polarity_LM',\n",
    "       'subjectivity_LM', 'polarity_HIV', 'subjectivity_HIV']]\n",
    "file_name = r'C:\\Thesis\\Data\\DataMain.pkl'\n",
    "data_main.to_pickle(file_name)"
   ]
  },
  {
   "cell_type": "code",
   "execution_count": 335,
   "metadata": {},
   "outputs": [],
   "source": [
    "file_name2 = r'C:\\Thesis\\Data\\DataMain.pkl'\n",
    "data_main = pd.read_pickle(file_name2)"
   ]
  },
  {
   "cell_type": "code",
   "execution_count": 52,
   "metadata": {},
   "outputs": [
    {
     "name": "stderr",
     "output_type": "stream",
     "text": [
      "C:\\Users\\D\\Anaconda3\\lib\\site-packages\\dateutil\\parser\\_parser.py:1218: UnknownTimezoneWarning: tzname EDT identified but not understood.  Pass `tzinfos` argument in order to correctly return a timezone-aware datetime.  In a future version, this will raise an exception.\n",
      "  category=UnknownTimezoneWarning)\n",
      "C:\\Users\\D\\Anaconda3\\lib\\site-packages\\dateutil\\parser\\_parser.py:1218: UnknownTimezoneWarning: tzname KST identified but not understood.  Pass `tzinfos` argument in order to correctly return a timezone-aware datetime.  In a future version, this will raise an exception.\n",
      "  category=UnknownTimezoneWarning)\n",
      "C:\\Users\\D\\Anaconda3\\lib\\site-packages\\dateutil\\parser\\_parser.py:1218: UnknownTimezoneWarning: tzname EST identified but not understood.  Pass `tzinfos` argument in order to correctly return a timezone-aware datetime.  In a future version, this will raise an exception.\n",
      "  category=UnknownTimezoneWarning)\n",
      "C:\\Users\\D\\Anaconda3\\lib\\site-packages\\dateutil\\parser\\_parser.py:1218: UnknownTimezoneWarning: tzname MET identified but not understood.  Pass `tzinfos` argument in order to correctly return a timezone-aware datetime.  In a future version, this will raise an exception.\n",
      "  category=UnknownTimezoneWarning)\n",
      "C:\\Users\\D\\Anaconda3\\lib\\site-packages\\dateutil\\parser\\_parser.py:1218: UnknownTimezoneWarning: tzname BDT identified but not understood.  Pass `tzinfos` argument in order to correctly return a timezone-aware datetime.  In a future version, this will raise an exception.\n",
      "  category=UnknownTimezoneWarning)\n",
      "C:\\Users\\D\\Anaconda3\\lib\\site-packages\\dateutil\\parser\\_parser.py:1218: UnknownTimezoneWarning: tzname CDT identified but not understood.  Pass `tzinfos` argument in order to correctly return a timezone-aware datetime.  In a future version, this will raise an exception.\n",
      "  category=UnknownTimezoneWarning)\n",
      "C:\\Users\\D\\Anaconda3\\lib\\site-packages\\dateutil\\parser\\_parser.py:1218: UnknownTimezoneWarning: tzname YEKT identified but not understood.  Pass `tzinfos` argument in order to correctly return a timezone-aware datetime.  In a future version, this will raise an exception.\n",
      "  category=UnknownTimezoneWarning)\n",
      "C:\\Users\\D\\Anaconda3\\lib\\site-packages\\dateutil\\parser\\_parser.py:1218: UnknownTimezoneWarning: tzname NZST identified but not understood.  Pass `tzinfos` argument in order to correctly return a timezone-aware datetime.  In a future version, this will raise an exception.\n",
      "  category=UnknownTimezoneWarning)\n"
     ]
    }
   ],
   "source": [
    "for i in data_main.index:\n",
    "    try:\n",
    "        r = requests.head(data_main.URL[i])\n",
    "        url_time = r.headers['last-modified']\n",
    "        data_main.loc[i,'filedate']= pd.to_datetime(url_time).strftime(format = \"%Y-%m-%d\")\n",
    "    except:\n",
    "        try:\n",
    "            r = requests.get(data_main.URL[i])\n",
    "            url_time = r.headers['last-modified']\n",
    "            data_main.loc[i,'filedate']= pd.to_datetime(url_time).strftime(format = \"%Y-%m-%d\")\n",
    "        except:\n",
    "            data_main.loc[i,'filedate']= 'failed'"
   ]
  },
  {
   "cell_type": "code",
   "execution_count": 53,
   "metadata": {},
   "outputs": [],
   "source": [
    "file_name = r'C:\\Thesis\\Data\\DataMain.pkl'\n",
    "data_main.to_pickle(file_name)"
   ]
  },
  {
   "cell_type": "markdown",
   "metadata": {},
   "source": [
    "## Clean dates"
   ]
  },
  {
   "cell_type": "code",
   "execution_count": 89,
   "metadata": {},
   "outputs": [],
   "source": [
    "import re"
   ]
  },
  {
   "cell_type": "code",
   "execution_count": 342,
   "metadata": {},
   "outputs": [],
   "source": [
    "file_name2 = r'C:\\Thesis\\Data\\DataMain.pkl'\n",
    "data_main = pd.read_pickle(file_name2)"
   ]
  },
  {
   "cell_type": "code",
   "execution_count": 133,
   "metadata": {},
   "outputs": [],
   "source": [
    "data_main['check date'] = None"
   ]
  },
  {
   "cell_type": "code",
   "execution_count": 134,
   "metadata": {},
   "outputs": [],
   "source": [
    "for i in data_main.index:\n",
    "    if (data_main.filedate[i] != 'failed')&(re.findall(\"\\d+\", data_main.Title[i]) != []):\n",
    "        a = (pd.to_datetime(data_main.filedate[i]) - pd.offsets.DateOffset(years = 1)).year\n",
    "        b = int(re.findall(\"\\d+\", data_main.Title[i])[0])\n",
    "        if a == b:\n",
    "            data_main.loc[i,'check date'] = 'ok'\n",
    "        else:\n",
    "            data_main.loc[i,'check date'] = 'failed'"
   ]
  },
  {
   "cell_type": "code",
   "execution_count": 142,
   "metadata": {},
   "outputs": [],
   "source": [
    "data_main = data_main[data_main['check date'] == 'ok'].reset_index(drop=True)"
   ]
  },
  {
   "cell_type": "code",
   "execution_count": 144,
   "metadata": {},
   "outputs": [],
   "source": [
    "file_name = r'C:\\Thesis\\Data\\DataMainCleanDates.pkl'\n",
    "data_main.to_pickle(file_name)"
   ]
  },
  {
   "cell_type": "markdown",
   "metadata": {},
   "source": [
    "## Clean data"
   ]
  },
  {
   "cell_type": "code",
   "execution_count": 83,
   "metadata": {},
   "outputs": [],
   "source": [
    "import pandas as pd"
   ]
  },
  {
   "cell_type": "code",
   "execution_count": 344,
   "metadata": {},
   "outputs": [],
   "source": [
    "file_name1 = r'C:\\Thesis\\Data\\DataMainCleanDates.pkl'\n",
    "data_main = pd.read_pickle(file_name1)\n"
   ]
  },
  {
   "cell_type": "code",
   "execution_count": 85,
   "metadata": {},
   "outputs": [],
   "source": [
    "data_main = pd.merge(left = data_main.drop(['Company Common Name', 'Country of Headquarters',\n",
    "       'TRBC Economic Sector Name', 'TRBC Business Sector Name',\n",
    "       'TRBC Industry Group Name', 'TRBC Industry Name'], axis = 1), right = companies, how = 'left', left_on = 'Instrument', right_on = 'Instrument')"
   ]
  },
  {
   "cell_type": "code",
   "execution_count": 91,
   "metadata": {},
   "outputs": [],
   "source": [
    "data_main[['polarity_LM', 'subjectivity_LM', 'polarity_HIV', 'subjectivity_HIV']]= data_main[['polarity_LM', 'subjectivity_LM', 'polarity_HIV', 'subjectivity_HIV']].astype('float64')"
   ]
  },
  {
   "cell_type": "code",
   "execution_count": 94,
   "metadata": {},
   "outputs": [],
   "source": [
    "file_name1 = r'C:\\Thesis\\Data\\DataMainCleanDates.pkl'\n",
    "data_main.to_pickle(file_name1)"
   ]
  },
  {
   "cell_type": "markdown",
   "metadata": {},
   "source": [
    "## Calculate abnormal returns"
   ]
  },
  {
   "cell_type": "code",
   "execution_count": 1,
   "metadata": {},
   "outputs": [],
   "source": [
    "import pandas as pd\n",
    "import numpy as np\n",
    "import datetime\n",
    "import matplotlib.pyplot as plt\n",
    "import seaborn as sns\n",
    "import statsmodels.api as sm\n",
    "from statsmodels.formula.api import ols\n",
    "import math\n",
    "from scipy import stats"
   ]
  },
  {
   "cell_type": "code",
   "execution_count": 2,
   "metadata": {},
   "outputs": [],
   "source": [
    "file_name1 = r'C:\\Thesis\\Data\\DataMainCleanDates.pkl'\n",
    "data_main = pd.read_pickle(file_name1)\n",
    "\n",
    "file_name2 = r'C:\\Thesis\\Data\\DailyPrices.pkl'\n",
    "daily_prices = pd.read_pickle(file_name2)"
   ]
  },
  {
   "cell_type": "code",
   "execution_count": 3,
   "metadata": {},
   "outputs": [],
   "source": [
    "# USE IF THREE FACTORS MODEL APPLIED\n",
    "file_name3 = r'C:\\Thesis\\Data\\Europe_3_Factors_Daily.csv'\n",
    "\n",
    "famafrench = pd.read_csv(file_name3, sep = ',' ,skiprows = 6)\n",
    "#famafrench.index = pd.to_datetime(famafrench.index, format = \"%Y%m%d\")\n",
    "famafrench.iloc[:,0] = pd.to_datetime(famafrench.iloc[:,0], format = \"%Y%m%d\")\n",
    "famafrench.columns = ['Date', 'Mkt-RF', 'SMB', 'HML', 'RF']"
   ]
  },
  {
   "cell_type": "code",
   "execution_count": 302,
   "metadata": {},
   "outputs": [],
   "source": [
    "# USE IF FIVE FACTORS MODEL APPLIED\n",
    "file_name3 = r'C:\\Thesis\\Data\\Europe_5_Factors_Daily.csv'\n",
    "\n",
    "famafrench = pd.read_csv(file_name3, sep = ',' ,skiprows = 6)\n",
    "#famafrench.index = pd.to_datetime(famafrench.index, format = \"%Y%m%d\")\n",
    "famafrench.iloc[:,0] = pd.to_datetime(famafrench.iloc[:,0], format = \"%Y%m%d\")\n",
    "famafrench.columns = ['Date', 'Mkt-RF', 'SMB', 'HML', 'RMW', 'CMA', 'RF']"
   ]
  },
  {
   "cell_type": "code",
   "execution_count": 4,
   "metadata": {},
   "outputs": [],
   "source": [
    "daily_returns = daily_prices.pct_change()\n",
    "data_main = data_main[data_main['filedate'] >= '2013']\n",
    "data_main['er_5d'] = None"
   ]
  },
  {
   "cell_type": "code",
   "execution_count": 5,
   "metadata": {},
   "outputs": [],
   "source": [
    "for i in data_main.index:\n",
    "    comp = data_main.Instrument[i]\n",
    "    date_file = pd.to_datetime(data_main['filedate'][i])\n",
    "    prev_start = date_file - pd.offsets.BDay(201)\n",
    "    prev_end = date_file - pd.offsets.BDay(1)\n",
    "    next_start = date_file\n",
    "    next_end = date_file + pd.offsets.BDay(4)\n",
    "\n",
    "    x = famafrench[(famafrench['Date'] >= prev_start)&(famafrench['Date'] <= prev_end)].set_index('Date')\n",
    "    y = daily_returns.loc[(daily_returns.index >=prev_start) & (daily_returns.index <=prev_end), comp]\n",
    "    sample = pd.merge(left = x, right = y, how = 'inner', left_index = True, right_index = True)\n",
    "    \n",
    "    model = sm.OLS(sample.iloc[:,4], sample.iloc[:,:3] )\n",
    "    results = model.fit(cov_type = 'HC0')\n",
    "    betas = results.params\n",
    "\n",
    "\n",
    "    x = famafrench[(famafrench['Date'] >= next_start)&(famafrench['Date'] <= next_end)].set_index('Date')\n",
    "    y = daily_returns.loc[(daily_returns.index >=next_start) & (daily_returns.index <=next_end),comp]\n",
    "    forecast = pd.merge(left = x, right = y, how = 'inner', left_index = True, right_index = True)\n",
    "    data_main.loc[i,'er_5d'] = (1 + forecast.iloc[:,4] -(forecast.iloc[:,:3]*betas).sum(axis=1) + forecast.iloc[:,3]).product() - 1 \n",
    "\n",
    "data_main['er_5d'] = data_main['er_5d'].astype('float64')"
   ]
  },
  {
   "cell_type": "code",
   "execution_count": 6,
   "metadata": {},
   "outputs": [],
   "source": [
    "data_main['positive'] = 1*(data_main['polarity_LM']>=0)"
   ]
  },
  {
   "cell_type": "code",
   "execution_count": 7,
   "metadata": {},
   "outputs": [],
   "source": [
    "data_main['Year'] = pd.to_datetime(data_main.filedate).dt.year"
   ]
  },
  {
   "cell_type": "code",
   "execution_count": 61,
   "metadata": {},
   "outputs": [
    {
     "data": {
      "text/plain": [
       "[0.585, 0.5, 0.71, 0.623, 0.656, 0.549, 0.523, 0.526, 0.635]"
      ]
     },
     "execution_count": 61,
     "metadata": {},
     "output_type": "execute_result"
    }
   ],
   "source": [
    "data_main.groupby('Year').positive.describe(percentiles=[])['mean'].round(3).to_list()"
   ]
  },
  {
   "cell_type": "code",
   "execution_count": 65,
   "metadata": {
    "scrolled": true
   },
   "outputs": [
    {
     "data": {
      "text/plain": [
       "'\\\\begin{tabular}{lrrrrr}\\n\\\\toprule\\n{} &  count &   mean &    std &    min &    max \\\\\\\\\\nYear &        &        &        &        &        \\\\\\\\\\n\\\\midrule\\n2013 &   53.0 &  0.000 &  0.052 & -0.135 &  0.131 \\\\\\\\\\n2014 &   98.0 &  0.008 &  0.039 & -0.123 &  0.173 \\\\\\\\\\n2015 &   62.0 & -0.017 &  0.056 & -0.252 &  0.121 \\\\\\\\\\n2016 &   61.0 & -0.003 &  0.036 & -0.122 &  0.092 \\\\\\\\\\n2017 &   90.0 &  0.002 &  0.034 & -0.158 &  0.137 \\\\\\\\\\n2018 &  162.0 &  0.055 &  0.036 & -0.029 &  0.197 \\\\\\\\\\n2019 &  331.0 &  0.056 &  0.045 & -0.112 &  0.351 \\\\\\\\\\n2020 &  407.0 &  0.019 &  0.076 & -0.161 &  0.384 \\\\\\\\\\n2021 &   63.0 &  0.007 &  0.034 & -0.078 &  0.127 \\\\\\\\\\n\\\\bottomrule\\n\\\\end{tabular}\\n'"
      ]
     },
     "execution_count": 65,
     "metadata": {},
     "output_type": "execute_result"
    }
   ],
   "source": [
    "data_main.groupby('Year').er_5d.describe(percentiles=[]).drop('50%', axis=1).round(3).to_latex()"
   ]
  },
  {
   "cell_type": "code",
   "execution_count": null,
   "metadata": {},
   "outputs": [],
   "source": [
    "data_main.groupby('Year').er_5d.describe(percentiles=[]).drop('50%', axis=1).round(3).to_latex"
   ]
  },
  {
   "cell_type": "code",
   "execution_count": null,
   "metadata": {},
   "outputs": [],
   "source": [
    "data_main.groupby('Year').polarity_LM.describe(percentiles=[]).drop('50%', axis=1).round(3).to_latex()"
   ]
  },
  {
   "cell_type": "code",
   "execution_count": 313,
   "metadata": {
    "scrolled": true
   },
   "outputs": [
    {
     "data": {
      "text/plain": [
       "<seaborn.axisgrid.FacetGrid at 0x19131324c48>"
      ]
     },
     "execution_count": 313,
     "metadata": {},
     "output_type": "execute_result"
    },
    {
     "data": {
      "image/png": "[encoded data removed]",
      "text/plain": [
       "<Figure size 407.125x360 with 1 Axes>"
      ]
     },
     "metadata": {
      "needs_background": "light"
     },
     "output_type": "display_data"
    }
   ],
   "source": [
    "thresh = 0.2\n",
    "country = 'Spain'\n",
    "#&(data_main.loc[:,'Country of Headquarters']==country)\n",
    "subset =  data_main[(data_main.polarity_LM<thresh)&(data_main.polarity_LM>-thresh)]\n",
    "sns.lmplot(x = 'polarity_LM', y = 'er_5d', hue = 'positive', data = subset, order = 3, palette = 'Blues', line_kws={'color': 'black'})"
   ]
  },
  {
   "cell_type": "code",
   "execution_count": 228,
   "metadata": {},
   "outputs": [
    {
     "data": {
      "text/plain": [
       "<AxesSubplot:xlabel='polarity_LM', ylabel='Count'>"
      ]
     },
     "execution_count": 228,
     "metadata": {},
     "output_type": "execute_result"
    },
    {
     "data": {
      "image/png": "[encoded data removed]",
      "text/plain": [
       "<Figure size 432x288 with 1 Axes>"
      ]
     },
     "metadata": {
      "needs_background": "light"
     },
     "output_type": "display_data"
    }
   ],
   "source": [
    "#Check bunching around the threshold\n",
    "sns.histplot(subset.polarity_LM, bins = 50)"
   ]
  },
  {
   "cell_type": "markdown",
   "metadata": {},
   "source": [
    "## RDD"
   ]
  },
  {
   "cell_type": "code",
   "execution_count": 8,
   "metadata": {},
   "outputs": [],
   "source": [
    "from rdd import rdd\n",
    "from stargazer.stargazer import Stargazer"
   ]
  },
  {
   "cell_type": "code",
   "execution_count": 21,
   "metadata": {},
   "outputs": [
    {
     "name": "stderr",
     "output_type": "stream",
     "text": [
      "C:\\Users\\D\\Anaconda3\\lib\\site-packages\\ipykernel_launcher.py:4: SettingWithCopyWarning: \n",
      "A value is trying to be set on a copy of a slice from a DataFrame.\n",
      "Try using .loc[row_indexer,col_indexer] = value instead\n",
      "\n",
      "See the caveats in the documentation: https://pandas.pydata.org/pandas-docs/stable/user_guide/indexing.html#returning-a-view-versus-a-copy\n",
      "  after removing the cwd from sys.path.\n",
      "C:\\Users\\D\\Anaconda3\\lib\\site-packages\\ipykernel_launcher.py:5: SettingWithCopyWarning: \n",
      "A value is trying to be set on a copy of a slice from a DataFrame.\n",
      "Try using .loc[row_indexer,col_indexer] = value instead\n",
      "\n",
      "See the caveats in the documentation: https://pandas.pydata.org/pandas-docs/stable/user_guide/indexing.html#returning-a-view-versus-a-copy\n",
      "  \"\"\"\n"
     ]
    }
   ],
   "source": [
    "#bandwidth_opt = rdd.optimal_bandwidth(data_main['er_5d'], data_main['polarity_LM'], cut=0)\n",
    "#print(\"Optimal bandwidth:\", 0.05)\n",
    "data_rdd = rdd.truncated_data(data_main, 'polarity_LM', 0.1, cut=0)\n",
    "data_rdd['polarity_LM2'] = data_rdd['polarity_LM']**2\n",
    "data_rdd['polarity_LM3'] = data_rdd['polarity_LM']**3"
   ]
  },
  {
   "cell_type": "code",
   "execution_count": 22,
   "metadata": {},
   "outputs": [
    {
     "name": "stdout",
     "output_type": "stream",
     "text": [
      "Estimation Equation:\t er_5d ~ TREATED + polarity_LM\n",
      "Estimation Equation:\t er_5d ~ TREATED + polarity_LM + polarity_LM2\n",
      "Estimation Equation:\t er_5d ~ TREATED + polarity_LM + polarity_LM2 + polarity_LM3\n"
     ]
    },
    {
     "data": {
      "text/html": [
       "<table style=\"text-align:center\"><tr><td colspan=\"7\" style=\"border-bottom: 1px solid black\"></td></tr><tr><td style=\"text-align:left\"></td><td colspan=\"6\"><em>Dependent variable:er_5d</em></td></tr><tr><td style=\"text-align:left\"></td><tr><td style=\"text-align:left\"></td><td>(1)</td><td>(2)</td><td>(3)</td><td>(4)</td><td>(5)</td><td>(6)</td></tr><tr><td colspan=\"7\" style=\"border-bottom: 1px solid black\"></td></tr><tr><td style=\"text-align:left\">Intercept</td><td>0.032<sup>***</sup></td><td>0.033<sup>***</sup></td><td>0.036<sup>***</sup></td><td>0.032<sup>***</sup></td><td>0.031<sup>***</sup></td><td>0.038<sup>***</sup></td></tr><tr><td style=\"text-align:left\"></td><td>(0.007)</td><td>(0.008)</td><td>(0.009)</td><td>(0.005)</td><td>(0.006)</td><td>(0.007)</td></tr><tr><td style=\"text-align:left\">TREATED</td><td>-0.012<sup></sup></td><td>-0.013<sup></sup></td><td>-0.018<sup></sup></td><td>-0.008<sup></sup></td><td>-0.008<sup></sup></td><td>-0.022<sup>*</sup></td></tr><tr><td style=\"text-align:left\"></td><td>(0.012)</td><td>(0.012)</td><td>(0.016)</td><td>(0.010)</td><td>(0.010)</td><td>(0.013)</td></tr><tr><td style=\"text-align:left\">polarity_LM</td><td>0.043<sup></sup></td><td>0.059<sup></sup></td><td>0.290<sup></sup></td><td>0.014<sup></sup></td><td>0.011<sup></sup></td><td>0.327<sup></sup></td></tr><tr><td style=\"text-align:left\"></td><td>(0.212)</td><td>(0.215)</td><td>(0.517)</td><td>(0.086)</td><td>(0.086)</td><td>(0.211)</td></tr><tr><td style=\"text-align:left\">polarity_LM2</td><td></td><td>-1.950<sup></sup></td><td>-1.752<sup></sup></td><td></td><td>0.358<sup></sup></td><td>0.479<sup></sup></td></tr><tr><td style=\"text-align:left\"></td><td></td><td>(4.206)</td><td>(4.230)</td><td></td><td>(0.850)</td><td>(0.852)</td></tr><tr><td style=\"text-align:left\">polarity_LM3</td><td></td><td></td><td>-105.826<sup></sup></td><td></td><td></td><td>-36.765<sup></sup></td></tr><tr><td style=\"text-align:left\"></td><td></td><td></td><td>(215.528)</td><td></td><td></td><td>(22.381)</td></tr><td colspan=\"7\" style=\"border-bottom: 1px solid black\"></td></tr><tr><td style=\"text-align: left\">Observations</td><td>323</td><td>323</td><td>323</td><td>629</td><td>629</td><td>629</td></tr><tr><td style=\"text-align: left\">R<sup>2</sup></td><td>0.009</td><td>0.010</td><td>0.010</td><td>0.003</td><td>0.004</td><td>0.008</td></tr><tr><td style=\"text-align: left\">Adjusted R<sup>2</sup></td><td>0.003</td><td>0.000</td><td>-0.002</td><td>0.000</td><td>-0.001</td><td>0.002</td></tr><tr><td style=\"text-align: left\">Residual Std. Error</td><td>0.054 (df=320)</td><td>0.054 (df=319)</td><td>0.054 (df=318)</td><td>0.060 (df=626)</td><td>0.060 (df=625)</td><td>0.060 (df=624)</td></tr><tr><td style=\"text-align: left\">F Statistic</td><td>1.440<sup></sup> (df=2; 320)</td><td>1.029<sup></sup> (df=3; 319)</td><td>0.830<sup></sup> (df=4; 318)</td><td>1.087<sup></sup> (df=2; 626)</td><td>0.783<sup></sup> (df=3; 625)</td><td>1.263<sup></sup> (df=4; 624)</td></tr><tr><td colspan=\"7\" style=\"border-bottom: 1px solid black\"></td></tr><tr><td style=\"text-align: left\">Note:</td>\n",
       " <td colspan=\"6\" style=\"text-align: right\">\n",
       "  <sup>*</sup>p&lt;0.1;\n",
       "  <sup>**</sup>p&lt;0.05;\n",
       "  <sup>***</sup>p&lt;0.01\n",
       " </td></tr></table>"
      ],
      "text/plain": [
       "<stargazer.stargazer.Stargazer at 0x1ed9ed22808>"
      ]
     },
     "execution_count": 22,
     "metadata": {},
     "output_type": "execute_result"
    }
   ],
   "source": [
    "model4 = rdd.rdd(data_rdd, 'polarity_LM', 'er_5d', cut=0).fit()\n",
    "model5 = rdd.rdd(data_rdd, 'polarity_LM', 'er_5d', cut=0, controls = ['polarity_LM2']).fit()\n",
    "model6 = rdd.rdd(data_rdd, 'polarity_LM', 'er_5d', cut=0, controls = ['polarity_LM2', 'polarity_LM3']).fit()\n",
    "#print(model.fit().summary())\n",
    "stargazer = Stargazer([model1, model2, model3, model4, model5, model6])\n",
    "stargazer"
   ]
  },
  {
   "cell_type": "code",
   "execution_count": 23,
   "metadata": {},
   "outputs": [
    {
     "data": {
      "text/plain": [
       "'\\\\begin{table}[!htbp] \\\\centering\\n\\\\begin{tabular}{@{\\\\extracolsep{5pt}}lcccccc}\\n\\\\\\\\[-1.8ex]\\\\hline\\n\\\\hline \\\\\\\\[-1.8ex]\\n& \\\\multicolumn{6}{c}{\\\\textit{Dependent variable:}} \\\\\\n\\\\cr \\\\cline{6-7}\\n\\\\\\\\[-1.8ex] & (1) & (2) & (3) & (4) & (5) & (6) \\\\\\\\\\n\\\\hline \\\\\\\\[-1.8ex]\\n Intercept & 0.032$^{***}$ & 0.033$^{***}$ & 0.036$^{***}$ & 0.032$^{***}$ & 0.031$^{***}$ & 0.038$^{***}$ \\\\\\\\\\n  & (0.007) & (0.008) & (0.009) & (0.005) & (0.006) & (0.007) \\\\\\\\\\n TREATED & -0.012$^{}$ & -0.013$^{}$ & -0.018$^{}$ & -0.008$^{}$ & -0.008$^{}$ & -0.022$^{*}$ \\\\\\\\\\n  & (0.012) & (0.012) & (0.016) & (0.010) & (0.010) & (0.013) \\\\\\\\\\n polarity_LM & 0.043$^{}$ & 0.059$^{}$ & 0.290$^{}$ & 0.014$^{}$ & 0.011$^{}$ & 0.327$^{}$ \\\\\\\\\\n  & (0.212) & (0.215) & (0.517) & (0.086) & (0.086) & (0.211) \\\\\\\\\\n polarity_LM2 & & -1.950$^{}$ & -1.752$^{}$ & & 0.358$^{}$ & 0.479$^{}$ \\\\\\\\\\n  & & (4.206) & (4.230) & & (0.850) & (0.852) \\\\\\\\\\n polarity_LM3 & & & -105.826$^{}$ & & & -36.765$^{}$ \\\\\\\\\\n  & & & (215.528) & & & (22.381) \\\\\\\\\\n\\\\hline \\\\\\\\[-1.8ex]\\n Observations & 323 & 323 & 323 & 629 & 629 & 629 \\\\\\\\\\n $R^2$ & 0.009 & 0.010 & 0.010 & 0.003 & 0.004 & 0.008 \\\\\\\\\\n Adjusted $R^2$ & 0.003 & 0.000 & -0.002 & 0.000 & -0.001 & 0.002 \\\\\\\\\\n Residual Std. Error & 0.054(df = 320) & 0.054(df = 319) & 0.054(df = 318) & 0.060(df = 626) & 0.060(df = 625) & 0.060(df = 624)  \\\\\\\\\\n F Statistic & 1.440$^{}$ (df = 2.0; 320.0) & 1.029$^{}$ (df = 3.0; 319.0) & 0.830$^{}$ (df = 4.0; 318.0) & 1.087$^{}$ (df = 2.0; 626.0) & 0.783$^{}$ (df = 3.0; 625.0) & 1.263$^{}$ (df = 4.0; 624.0) \\\\\\\\\\n\\\\hline\\n\\\\hline \\\\\\\\[-1.8ex]\\n\\\\textit{Note:} & \\\\multicolumn{6}{r}{$^{*}$p$<$0.1; $^{**}$p$<$0.05; $^{***}$p$<$0.01} \\\\\\\\\\n\\\\end{tabular}\\n\\\\end{table}'"
      ]
     },
     "execution_count": 23,
     "metadata": {},
     "output_type": "execute_result"
    }
   ],
   "source": [
    "stargazer.render_latex()"
   ]
  },
  {
   "cell_type": "code",
   "execution_count": 312,
   "metadata": {},
   "outputs": [
    {
     "data": {
      "image/png": "[encoded data removed]",
      "text/plain": [
       "<Figure size 864x576 with 1 Axes>"
      ]
     },
     "metadata": {
      "needs_background": "light"
     },
     "output_type": "display_data"
    }
   ],
   "source": [
    "data_binned = rdd.bin_data(data_rdd, 'er_5d', 'polarity_LM', 50)\n",
    "\n",
    "\n",
    "plt.figure(figsize=(12, 8))\n",
    "plt.scatter(data_binned['polarity_LM'], data_binned['er_5d'],\n",
    "    s = data_binned['n_obs'], facecolors='none', edgecolors='r')\n",
    "plt.axvline(x=0, color='b')\n",
    "plt.xlabel('x')\n",
    "plt.ylabel('y')\n",
    "plt.show()\n",
    "plt.close()"
   ]
  },
  {
   "cell_type": "code",
   "execution_count": 212,
   "metadata": {},
   "outputs": [
    {
     "name": "stderr",
     "output_type": "stream",
     "text": [
      "C:\\Users\\D\\Anaconda3\\lib\\site-packages\\ipykernel_launcher.py:1: SettingWithCopyWarning: \n",
      "A value is trying to be set on a copy of a slice from a DataFrame.\n",
      "Try using .loc[row_indexer,col_indexer] = value instead\n",
      "\n",
      "See the caveats in the documentation: https://pandas.pydata.org/pandas-docs/stable/user_guide/indexing.html#returning-a-view-versus-a-copy\n",
      "  \"\"\"Entry point for launching an IPython kernel.\n",
      "C:\\Users\\D\\Anaconda3\\lib\\site-packages\\ipykernel_launcher.py:2: SettingWithCopyWarning: \n",
      "A value is trying to be set on a copy of a slice from a DataFrame.\n",
      "Try using .loc[row_indexer,col_indexer] = value instead\n",
      "\n",
      "See the caveats in the documentation: https://pandas.pydata.org/pandas-docs/stable/user_guide/indexing.html#returning-a-view-versus-a-copy\n",
      "  \n"
     ]
    },
    {
     "data": {
      "text/plain": [
       "-0.005843025075666204"
      ]
     },
     "execution_count": 212,
     "metadata": {},
     "output_type": "execute_result"
    }
   ],
   "source": [
    "subset['polarity_LM2'] = subset['polarity_LM']**2\n",
    "subset['polarity_LM3'] = subset['polarity_LM']**3\n",
    "\n",
    "\n",
    "formula = 'er_5d ~ polarity_LM +  polarity_LM2 + polarity_LM3'\n",
    "\n",
    "model1 = ols(formula, data = subset, subset = (data_main['positive']==0))\n",
    "model2 = ols(formula, data = subset, subset = (data_main['positive']==1))\n",
    "results1 = model1.fit(cov_type='HC0')\n",
    "results2 = model2.fit(cov_type='HC0')\n",
    "results2.params[0] - results1.params[0] "
   ]
  },
  {
   "cell_type": "code",
   "execution_count": 209,
   "metadata": {},
   "outputs": [
    {
     "data": {
      "text/plain": [
       "0.010539477383138561"
      ]
     },
     "execution_count": 209,
     "metadata": {},
     "output_type": "execute_result"
    }
   ],
   "source": []
  },
  {
   "cell_type": "code",
   "execution_count": 174,
   "metadata": {},
   "outputs": [
    {
     "data": {
      "text/plain": [
       "Instrument                       string\n",
       "ESG Score                       float64\n",
       "Resource Use Score              float64\n",
       "Workforce Score                 float64\n",
       "Human Rights Score              float64\n",
       "Community Score                 float64\n",
       "Product Responsibility Score    float64\n",
       "Management Score                float64\n",
       "Shareholders Score              float64\n",
       "CSR Strategy Score              float64\n",
       "Social Pillar Score             float64\n",
       "Governance Pillar Score         float64\n",
       "Environmental Pillar Score      float64\n",
       "Employees, Prd/Prd Avg, FY      float64\n",
       "ESG Reporting Scope             float64\n",
       "Date                              int64\n",
       "Title                            object\n",
       "URL                              string\n",
       "Update Date                      string\n",
       "Financial Period Absolute        string\n",
       "ROA Total Assets, Percent       float64\n",
       "Pretax ROE Total Equity %       float64\n",
       "Total Return                     object\n",
       "downloaded                       object\n",
       "polarity_LM                     float64\n",
       "subjectivity_LM                 float64\n",
       "polarity_HIV                    float64\n",
       "subjectivity_HIV                float64\n",
       "filedate                         object\n",
       "check date                       object\n",
       "Company Common Name              string\n",
       "Country of Headquarters          string\n",
       "TRBC Economic Sector Name        string\n",
       "TRBC Business Sector Name        string\n",
       "TRBC Industry Group Name         string\n",
       "er_5d                           float64\n",
       "positive                          int32\n",
       "dtype: object"
      ]
     },
     "execution_count": 174,
     "metadata": {},
     "output_type": "execute_result"
    }
   ],
   "source": [
    "data_main.dtypes"
   ]
  },
  {
   "cell_type": "code",
   "execution_count": 143,
   "metadata": {},
   "outputs": [],
   "source": [
    "sns.lmplot?"
   ]
  },
  {
   "cell_type": "code",
   "execution_count": 120,
   "metadata": {},
   "outputs": [
    {
     "data": {
      "image/png": "[encoded data removed]",
      "text/plain": [
       "<Figure size 864x432 with 2 Axes>"
      ]
     },
     "metadata": {
      "needs_background": "light"
     },
     "output_type": "display_data"
    }
   ],
   "source": [
    "f, ax = plt.subplots(nrows=1, ncols=2, figsize=(12,6))\n",
    "\n",
    "sns.regplot(x = sentiment, y = ret, order = 1, ax = ax[0])\n",
    "ax[0].set_ylabel('Daily return', fontsize = 12)\n",
    "ax[0].set_xlabel('Sentiment', fontsize = 12)\n",
    "\n",
    "sns.regplot(x = sentiment, y = ret, order = 1, ax = ax[1])\n",
    "ax[1].set_ylabel('Weekly return', fontsize = 12)\n",
    "ax[1].set_xlabel('Sentiment', fontsize = 12)\n",
    "plt.show()"
   ]
  },
  {
   "cell_type": "code",
   "execution_count": null,
   "metadata": {},
   "outputs": [],
   "source": []
  },
  {
   "cell_type": "code",
   "execution_count": null,
   "metadata": {},
   "outputs": [],
   "source": []
  },
  {
   "cell_type": "code",
   "execution_count": null,
   "metadata": {},
   "outputs": [],
   "source": []
  },
  {
   "cell_type": "code",
   "execution_count": null,
   "metadata": {},
   "outputs": [],
   "source": []
  },
  {
   "cell_type": "markdown",
   "metadata": {},
   "source": [
    "# Analysis"
   ]
  },
  {
   "cell_type": "code",
   "execution_count": 123,
   "metadata": {},
   "outputs": [],
   "source": [
    "import pandas as pd\n",
    "import numpy as np\n",
    "import datetime\n",
    "import matplotlib.pyplot as plt\n",
    "import seaborn as sns\n",
    "import statsmodels.api as sm\n",
    "import math\n",
    "from scipy import stats\n"
   ]
  },
  {
   "cell_type": "code",
   "execution_count": 131,
   "metadata": {},
   "outputs": [],
   "source": [
    "file_name2 = r'C:\\Thesis\\Data\\DataMain.pkl'\n",
    "data_main = pd.read_pickle(file_name2)\n",
    "\n",
    "file_name3 = r'C:\\Thesis\\Data\\DataReturns.pkl'\n",
    "data_ret = pd.read_pickle(file_name3)"
   ]
  },
  {
   "cell_type": "code",
   "execution_count": 136,
   "metadata": {},
   "outputs": [],
   "source": [
    "data_sent = data_main[['Instrument', 'Company Common Name', 'Country of Headquarters',\n",
    "       'ROA Total Assets, Percent', 'Pretax ROE Total Equity %',\n",
    "       'Total Return', 'Title','Date','polarity_LM',\n",
    "       'subjectivity_LM', 'polarity_HIV', 'subjectivity_HIV']]\n",
    "\n",
    "data_ret = data_ret[['Instrument', 'Company Common Name', 'Country of Headquarters', 'return_d', 'return_w', 'return_2w',\n",
    "       'return_m', 'return_2m']]\n",
    "\n",
    "data3 = pd.merge(left = data_sent, right = data_ret, left_index = True, right_index = True, how = 'inner')\n",
    "\n",
    "subset = data3[(data3.polarity_LM.notna())&(data3.return_d.notna())&((data3.Title.str.contains('sustain'))|(data3.Title.str.contains('respons'))|((data3.Title.str.contains('non-financ'))))]\n",
    "#&(data_sent.Date==2017)"
   ]
  },
  {
   "cell_type": "code",
   "execution_count": 15,
   "metadata": {},
   "outputs": [
    {
     "data": {
      "text/plain": [
       "False"
      ]
     },
     "execution_count": 15,
     "metadata": {},
     "output_type": "execute_result"
    }
   ],
   "source": [
    "from pandas.api.types import is_string_dtype\n",
    "from pandas.api.types import is_numeric_dtype\n",
    "\n",
    "is_numeric_dtype(subset.polarity_LM)"
   ]
  },
  {
   "cell_type": "code",
   "execution_count": 158,
   "metadata": {},
   "outputs": [
    {
     "data": {
      "text/plain": [
       "-0.0015195527275450585"
      ]
     },
     "execution_count": 158,
     "metadata": {},
     "output_type": "execute_result"
    }
   ],
   "source": [
    "monthly_ret[sentiment<0].mean()"
   ]
  },
  {
   "cell_type": "code",
   "execution_count": 157,
   "metadata": {},
   "outputs": [
    {
     "data": {
      "text/plain": [
       "-0.00021668056911572904"
      ]
     },
     "execution_count": 157,
     "metadata": {},
     "output_type": "execute_result"
    }
   ],
   "source": [
    "monthly_ret[sentiment>0].mean()"
   ]
  },
  {
   "cell_type": "code",
   "execution_count": 156,
   "metadata": {},
   "outputs": [
    {
     "data": {
      "text/plain": [
       "Ttest_indResult(statistic=-2.21227498560495, pvalue=0.02826454250740159)"
      ]
     },
     "execution_count": 156,
     "metadata": {},
     "output_type": "execute_result"
    }
   ],
   "source": [
    "stats.ttest_ind(monthly_ret[sentiment<0], monthly_ret[sentiment>0], equal_var = False)"
   ]
  },
  {
   "cell_type": "code",
   "execution_count": 140,
   "metadata": {},
   "outputs": [
    {
     "data": {
      "text/plain": [
       "<matplotlib.collections.PathCollection at 0x28d0b753e48>"
      ]
     },
     "execution_count": 140,
     "metadata": {},
     "output_type": "execute_result"
    },
    {
     "data": {
      "image/png": "[encoded data removed]",
      "text/plain": [
       "<Figure size 432x288 with 1 Axes>"
      ]
     },
     "metadata": {
      "needs_background": "light"
     },
     "output_type": "display_data"
    }
   ],
   "source": [
    "plt.scatter(x = sentiment, y = monthly_ret)"
   ]
  },
  {
   "cell_type": "code",
   "execution_count": 137,
   "metadata": {},
   "outputs": [],
   "source": [
    "thresh = 0.1\n",
    "sentiment = subset[(subset.polarity_LM<thresh)&(subset.polarity_LM>-thresh)].polarity_LM*subset[(subset.polarity_LM<thresh)&(subset.polarity_LM>-thresh)].subjectivity_LM\n",
    "daily_ret = subset[(subset.polarity_LM<thresh)&(subset.polarity_LM>-thresh)].return_d\n",
    "weekly_ret = subset[(subset.polarity_LM<thresh)&(subset.polarity_LM>-thresh)].return_w\n",
    "weekly2_ret = subset[(subset.polarity_LM<thresh)&(subset.polarity_LM>-thresh)].return_2w\n",
    "monthly_ret = subset[(subset.polarity_LM<thresh)&(subset.polarity_LM>-thresh)].return_m\n",
    "monthly2_ret = subset[(subset.polarity_LM<thresh)&(subset.polarity_LM>-thresh)].return_2m\n",
    "roa = subset[(subset.polarity_LM<thresh)&(subset.polarity_LM>-thresh)]['ROA Total Assets, Percent']\n",
    "roe = subset[(subset.polarity_LM<thresh)&(subset.polarity_LM>-thresh)]['Pretax ROE Total Equity %']\n",
    "totret = subset[(subset.polarity_LM<thresh)&(subset.polarity_LM>-thresh)]['Total Return']"
   ]
  },
  {
   "cell_type": "code",
   "execution_count": 55,
   "metadata": {},
   "outputs": [
    {
     "ename": "TypeError",
     "evalue": "No loop matching the specified signature and casting was found for ufunc svd_n_s",
     "output_type": "error",
     "traceback": [
      "\u001b[1;31m---------------------------------------------------------------------------\u001b[0m",
      "\u001b[1;31mTypeError\u001b[0m                                 Traceback (most recent call last)",
      "\u001b[1;32m<ipython-input-55-1dd7f58055a5>\u001b[0m in \u001b[0;36m<module>\u001b[1;34m\u001b[0m\n\u001b[0;32m     11\u001b[0m \u001b[0mf\u001b[0m\u001b[1;33m,\u001b[0m \u001b[0max\u001b[0m \u001b[1;33m=\u001b[0m \u001b[0mplt\u001b[0m\u001b[1;33m.\u001b[0m\u001b[0msubplots\u001b[0m\u001b[1;33m(\u001b[0m\u001b[0mnrows\u001b[0m\u001b[1;33m=\u001b[0m\u001b[1;36m1\u001b[0m\u001b[1;33m,\u001b[0m \u001b[0mncols\u001b[0m\u001b[1;33m=\u001b[0m\u001b[1;36m2\u001b[0m\u001b[1;33m,\u001b[0m \u001b[0mfigsize\u001b[0m\u001b[1;33m=\u001b[0m\u001b[1;33m(\u001b[0m\u001b[1;36m12\u001b[0m\u001b[1;33m,\u001b[0m\u001b[1;36m6\u001b[0m\u001b[1;33m)\u001b[0m\u001b[1;33m)\u001b[0m\u001b[1;33m\u001b[0m\u001b[1;33m\u001b[0m\u001b[0m\n\u001b[0;32m     12\u001b[0m \u001b[1;33m\u001b[0m\u001b[0m\n\u001b[1;32m---> 13\u001b[1;33m \u001b[0msns\u001b[0m\u001b[1;33m.\u001b[0m\u001b[0mregplot\u001b[0m\u001b[1;33m(\u001b[0m\u001b[0mx\u001b[0m \u001b[1;33m=\u001b[0m \u001b[0msentiment\u001b[0m\u001b[1;33m,\u001b[0m \u001b[0my\u001b[0m \u001b[1;33m=\u001b[0m \u001b[0mdaily_ret\u001b[0m\u001b[1;33m,\u001b[0m \u001b[0morder\u001b[0m \u001b[1;33m=\u001b[0m \u001b[1;36m1\u001b[0m\u001b[1;33m,\u001b[0m \u001b[0max\u001b[0m \u001b[1;33m=\u001b[0m \u001b[0max\u001b[0m\u001b[1;33m[\u001b[0m\u001b[1;36m0\u001b[0m\u001b[1;33m]\u001b[0m\u001b[1;33m)\u001b[0m\u001b[1;33m\u001b[0m\u001b[1;33m\u001b[0m\u001b[0m\n\u001b[0m\u001b[0;32m     14\u001b[0m \u001b[0max\u001b[0m\u001b[1;33m[\u001b[0m\u001b[1;36m0\u001b[0m\u001b[1;33m]\u001b[0m\u001b[1;33m.\u001b[0m\u001b[0mset_ylabel\u001b[0m\u001b[1;33m(\u001b[0m\u001b[1;34m'Daily return'\u001b[0m\u001b[1;33m,\u001b[0m \u001b[0mfontsize\u001b[0m \u001b[1;33m=\u001b[0m \u001b[1;36m12\u001b[0m\u001b[1;33m)\u001b[0m\u001b[1;33m\u001b[0m\u001b[1;33m\u001b[0m\u001b[0m\n\u001b[0;32m     15\u001b[0m \u001b[0max\u001b[0m\u001b[1;33m[\u001b[0m\u001b[1;36m0\u001b[0m\u001b[1;33m]\u001b[0m\u001b[1;33m.\u001b[0m\u001b[0mset_xlabel\u001b[0m\u001b[1;33m(\u001b[0m\u001b[1;34m'Sentiment'\u001b[0m\u001b[1;33m,\u001b[0m \u001b[0mfontsize\u001b[0m \u001b[1;33m=\u001b[0m \u001b[1;36m12\u001b[0m\u001b[1;33m)\u001b[0m\u001b[1;33m\u001b[0m\u001b[1;33m\u001b[0m\u001b[0m\n",
      "\u001b[1;32m~\\Anaconda3\\lib\\site-packages\\seaborn\\_decorators.py\u001b[0m in \u001b[0;36minner_f\u001b[1;34m(*args, **kwargs)\u001b[0m\n\u001b[0;32m     44\u001b[0m             )\n\u001b[0;32m     45\u001b[0m         \u001b[0mkwargs\u001b[0m\u001b[1;33m.\u001b[0m\u001b[0mupdate\u001b[0m\u001b[1;33m(\u001b[0m\u001b[1;33m{\u001b[0m\u001b[0mk\u001b[0m\u001b[1;33m:\u001b[0m \u001b[0marg\u001b[0m \u001b[1;32mfor\u001b[0m \u001b[0mk\u001b[0m\u001b[1;33m,\u001b[0m \u001b[0marg\u001b[0m \u001b[1;32min\u001b[0m \u001b[0mzip\u001b[0m\u001b[1;33m(\u001b[0m\u001b[0msig\u001b[0m\u001b[1;33m.\u001b[0m\u001b[0mparameters\u001b[0m\u001b[1;33m,\u001b[0m \u001b[0margs\u001b[0m\u001b[1;33m)\u001b[0m\u001b[1;33m}\u001b[0m\u001b[1;33m)\u001b[0m\u001b[1;33m\u001b[0m\u001b[1;33m\u001b[0m\u001b[0m\n\u001b[1;32m---> 46\u001b[1;33m         \u001b[1;32mreturn\u001b[0m \u001b[0mf\u001b[0m\u001b[1;33m(\u001b[0m\u001b[1;33m**\u001b[0m\u001b[0mkwargs\u001b[0m\u001b[1;33m)\u001b[0m\u001b[1;33m\u001b[0m\u001b[1;33m\u001b[0m\u001b[0m\n\u001b[0m\u001b[0;32m     47\u001b[0m     \u001b[1;32mreturn\u001b[0m \u001b[0minner_f\u001b[0m\u001b[1;33m\u001b[0m\u001b[1;33m\u001b[0m\u001b[0m\n\u001b[0;32m     48\u001b[0m \u001b[1;33m\u001b[0m\u001b[0m\n",
      "\u001b[1;32m~\\Anaconda3\\lib\\site-packages\\seaborn\\regression.py\u001b[0m in \u001b[0;36mregplot\u001b[1;34m(x, y, data, x_estimator, x_bins, x_ci, scatter, fit_reg, ci, n_boot, units, seed, order, logistic, lowess, robust, logx, x_partial, y_partial, truncate, dropna, x_jitter, y_jitter, label, color, marker, scatter_kws, line_kws, ax)\u001b[0m\n\u001b[0;32m    833\u001b[0m     \u001b[0mscatter_kws\u001b[0m\u001b[1;33m[\u001b[0m\u001b[1;34m\"marker\"\u001b[0m\u001b[1;33m]\u001b[0m \u001b[1;33m=\u001b[0m \u001b[0mmarker\u001b[0m\u001b[1;33m\u001b[0m\u001b[1;33m\u001b[0m\u001b[0m\n\u001b[0;32m    834\u001b[0m     \u001b[0mline_kws\u001b[0m \u001b[1;33m=\u001b[0m \u001b[1;33m{\u001b[0m\u001b[1;33m}\u001b[0m \u001b[1;32mif\u001b[0m \u001b[0mline_kws\u001b[0m \u001b[1;32mis\u001b[0m \u001b[1;32mNone\u001b[0m \u001b[1;32melse\u001b[0m \u001b[0mcopy\u001b[0m\u001b[1;33m.\u001b[0m\u001b[0mcopy\u001b[0m\u001b[1;33m(\u001b[0m\u001b[0mline_kws\u001b[0m\u001b[1;33m)\u001b[0m\u001b[1;33m\u001b[0m\u001b[1;33m\u001b[0m\u001b[0m\n\u001b[1;32m--> 835\u001b[1;33m     \u001b[0mplotter\u001b[0m\u001b[1;33m.\u001b[0m\u001b[0mplot\u001b[0m\u001b[1;33m(\u001b[0m\u001b[0max\u001b[0m\u001b[1;33m,\u001b[0m \u001b[0mscatter_kws\u001b[0m\u001b[1;33m,\u001b[0m \u001b[0mline_kws\u001b[0m\u001b[1;33m)\u001b[0m\u001b[1;33m\u001b[0m\u001b[1;33m\u001b[0m\u001b[0m\n\u001b[0m\u001b[0;32m    836\u001b[0m     \u001b[1;32mreturn\u001b[0m \u001b[0max\u001b[0m\u001b[1;33m\u001b[0m\u001b[1;33m\u001b[0m\u001b[0m\n\u001b[0;32m    837\u001b[0m \u001b[1;33m\u001b[0m\u001b[0m\n",
      "\u001b[1;32m~\\Anaconda3\\lib\\site-packages\\seaborn\\regression.py\u001b[0m in \u001b[0;36mplot\u001b[1;34m(self, ax, scatter_kws, line_kws)\u001b[0m\n\u001b[0;32m    368\u001b[0m \u001b[1;33m\u001b[0m\u001b[0m\n\u001b[0;32m    369\u001b[0m         \u001b[1;32mif\u001b[0m \u001b[0mself\u001b[0m\u001b[1;33m.\u001b[0m\u001b[0mfit_reg\u001b[0m\u001b[1;33m:\u001b[0m\u001b[1;33m\u001b[0m\u001b[1;33m\u001b[0m\u001b[0m\n\u001b[1;32m--> 370\u001b[1;33m             \u001b[0mself\u001b[0m\u001b[1;33m.\u001b[0m\u001b[0mlineplot\u001b[0m\u001b[1;33m(\u001b[0m\u001b[0max\u001b[0m\u001b[1;33m,\u001b[0m \u001b[0mline_kws\u001b[0m\u001b[1;33m)\u001b[0m\u001b[1;33m\u001b[0m\u001b[1;33m\u001b[0m\u001b[0m\n\u001b[0m\u001b[0;32m    371\u001b[0m \u001b[1;33m\u001b[0m\u001b[0m\n\u001b[0;32m    372\u001b[0m         \u001b[1;31m# Label the axes\u001b[0m\u001b[1;33m\u001b[0m\u001b[1;33m\u001b[0m\u001b[1;33m\u001b[0m\u001b[0m\n",
      "\u001b[1;32m~\\Anaconda3\\lib\\site-packages\\seaborn\\regression.py\u001b[0m in \u001b[0;36mlineplot\u001b[1;34m(self, ax, kws)\u001b[0m\n\u001b[0;32m    411\u001b[0m         \u001b[1;34m\"\"\"Draw the model.\"\"\"\u001b[0m\u001b[1;33m\u001b[0m\u001b[1;33m\u001b[0m\u001b[0m\n\u001b[0;32m    412\u001b[0m         \u001b[1;31m# Fit the regression model\u001b[0m\u001b[1;33m\u001b[0m\u001b[1;33m\u001b[0m\u001b[1;33m\u001b[0m\u001b[0m\n\u001b[1;32m--> 413\u001b[1;33m         \u001b[0mgrid\u001b[0m\u001b[1;33m,\u001b[0m \u001b[0myhat\u001b[0m\u001b[1;33m,\u001b[0m \u001b[0merr_bands\u001b[0m \u001b[1;33m=\u001b[0m \u001b[0mself\u001b[0m\u001b[1;33m.\u001b[0m\u001b[0mfit_regression\u001b[0m\u001b[1;33m(\u001b[0m\u001b[0max\u001b[0m\u001b[1;33m)\u001b[0m\u001b[1;33m\u001b[0m\u001b[1;33m\u001b[0m\u001b[0m\n\u001b[0m\u001b[0;32m    414\u001b[0m         \u001b[0medges\u001b[0m \u001b[1;33m=\u001b[0m \u001b[0mgrid\u001b[0m\u001b[1;33m[\u001b[0m\u001b[1;36m0\u001b[0m\u001b[1;33m]\u001b[0m\u001b[1;33m,\u001b[0m \u001b[0mgrid\u001b[0m\u001b[1;33m[\u001b[0m\u001b[1;33m-\u001b[0m\u001b[1;36m1\u001b[0m\u001b[1;33m]\u001b[0m\u001b[1;33m\u001b[0m\u001b[1;33m\u001b[0m\u001b[0m\n\u001b[0;32m    415\u001b[0m \u001b[1;33m\u001b[0m\u001b[0m\n",
      "\u001b[1;32m~\\Anaconda3\\lib\\site-packages\\seaborn\\regression.py\u001b[0m in \u001b[0;36mfit_regression\u001b[1;34m(self, ax, x_range, grid)\u001b[0m\n\u001b[0;32m    219\u001b[0m             \u001b[0myhat\u001b[0m\u001b[1;33m,\u001b[0m \u001b[0myhat_boots\u001b[0m \u001b[1;33m=\u001b[0m \u001b[0mself\u001b[0m\u001b[1;33m.\u001b[0m\u001b[0mfit_logx\u001b[0m\u001b[1;33m(\u001b[0m\u001b[0mgrid\u001b[0m\u001b[1;33m)\u001b[0m\u001b[1;33m\u001b[0m\u001b[1;33m\u001b[0m\u001b[0m\n\u001b[0;32m    220\u001b[0m         \u001b[1;32melse\u001b[0m\u001b[1;33m:\u001b[0m\u001b[1;33m\u001b[0m\u001b[1;33m\u001b[0m\u001b[0m\n\u001b[1;32m--> 221\u001b[1;33m             \u001b[0myhat\u001b[0m\u001b[1;33m,\u001b[0m \u001b[0myhat_boots\u001b[0m \u001b[1;33m=\u001b[0m \u001b[0mself\u001b[0m\u001b[1;33m.\u001b[0m\u001b[0mfit_fast\u001b[0m\u001b[1;33m(\u001b[0m\u001b[0mgrid\u001b[0m\u001b[1;33m)\u001b[0m\u001b[1;33m\u001b[0m\u001b[1;33m\u001b[0m\u001b[0m\n\u001b[0m\u001b[0;32m    222\u001b[0m \u001b[1;33m\u001b[0m\u001b[0m\n\u001b[0;32m    223\u001b[0m         \u001b[1;31m# Compute the confidence interval at each grid point\u001b[0m\u001b[1;33m\u001b[0m\u001b[1;33m\u001b[0m\u001b[1;33m\u001b[0m\u001b[0m\n",
      "\u001b[1;32m~\\Anaconda3\\lib\\site-packages\\seaborn\\regression.py\u001b[0m in \u001b[0;36mfit_fast\u001b[1;34m(self, grid)\u001b[0m\n\u001b[0;32m    236\u001b[0m         \u001b[0mX\u001b[0m\u001b[1;33m,\u001b[0m \u001b[0my\u001b[0m \u001b[1;33m=\u001b[0m \u001b[0mnp\u001b[0m\u001b[1;33m.\u001b[0m\u001b[0mc_\u001b[0m\u001b[1;33m[\u001b[0m\u001b[0mnp\u001b[0m\u001b[1;33m.\u001b[0m\u001b[0mones\u001b[0m\u001b[1;33m(\u001b[0m\u001b[0mlen\u001b[0m\u001b[1;33m(\u001b[0m\u001b[0mself\u001b[0m\u001b[1;33m.\u001b[0m\u001b[0mx\u001b[0m\u001b[1;33m)\u001b[0m\u001b[1;33m)\u001b[0m\u001b[1;33m,\u001b[0m \u001b[0mself\u001b[0m\u001b[1;33m.\u001b[0m\u001b[0mx\u001b[0m\u001b[1;33m]\u001b[0m\u001b[1;33m,\u001b[0m \u001b[0mself\u001b[0m\u001b[1;33m.\u001b[0m\u001b[0my\u001b[0m\u001b[1;33m\u001b[0m\u001b[1;33m\u001b[0m\u001b[0m\n\u001b[0;32m    237\u001b[0m         \u001b[0mgrid\u001b[0m \u001b[1;33m=\u001b[0m \u001b[0mnp\u001b[0m\u001b[1;33m.\u001b[0m\u001b[0mc_\u001b[0m\u001b[1;33m[\u001b[0m\u001b[0mnp\u001b[0m\u001b[1;33m.\u001b[0m\u001b[0mones\u001b[0m\u001b[1;33m(\u001b[0m\u001b[0mlen\u001b[0m\u001b[1;33m(\u001b[0m\u001b[0mgrid\u001b[0m\u001b[1;33m)\u001b[0m\u001b[1;33m)\u001b[0m\u001b[1;33m,\u001b[0m \u001b[0mgrid\u001b[0m\u001b[1;33m]\u001b[0m\u001b[1;33m\u001b[0m\u001b[1;33m\u001b[0m\u001b[0m\n\u001b[1;32m--> 238\u001b[1;33m         \u001b[0myhat\u001b[0m \u001b[1;33m=\u001b[0m \u001b[0mgrid\u001b[0m\u001b[1;33m.\u001b[0m\u001b[0mdot\u001b[0m\u001b[1;33m(\u001b[0m\u001b[0mreg_func\u001b[0m\u001b[1;33m(\u001b[0m\u001b[0mX\u001b[0m\u001b[1;33m,\u001b[0m \u001b[0my\u001b[0m\u001b[1;33m)\u001b[0m\u001b[1;33m)\u001b[0m\u001b[1;33m\u001b[0m\u001b[1;33m\u001b[0m\u001b[0m\n\u001b[0m\u001b[0;32m    239\u001b[0m         \u001b[1;32mif\u001b[0m \u001b[0mself\u001b[0m\u001b[1;33m.\u001b[0m\u001b[0mci\u001b[0m \u001b[1;32mis\u001b[0m \u001b[1;32mNone\u001b[0m\u001b[1;33m:\u001b[0m\u001b[1;33m\u001b[0m\u001b[1;33m\u001b[0m\u001b[0m\n\u001b[0;32m    240\u001b[0m             \u001b[1;32mreturn\u001b[0m \u001b[0myhat\u001b[0m\u001b[1;33m,\u001b[0m \u001b[1;32mNone\u001b[0m\u001b[1;33m\u001b[0m\u001b[1;33m\u001b[0m\u001b[0m\n",
      "\u001b[1;32m~\\Anaconda3\\lib\\site-packages\\seaborn\\regression.py\u001b[0m in \u001b[0;36mreg_func\u001b[1;34m(_x, _y)\u001b[0m\n\u001b[0;32m    232\u001b[0m         \u001b[1;34m\"\"\"Low-level regression and prediction using linear algebra.\"\"\"\u001b[0m\u001b[1;33m\u001b[0m\u001b[1;33m\u001b[0m\u001b[0m\n\u001b[0;32m    233\u001b[0m         \u001b[1;32mdef\u001b[0m \u001b[0mreg_func\u001b[0m\u001b[1;33m(\u001b[0m\u001b[0m_x\u001b[0m\u001b[1;33m,\u001b[0m \u001b[0m_y\u001b[0m\u001b[1;33m)\u001b[0m\u001b[1;33m:\u001b[0m\u001b[1;33m\u001b[0m\u001b[1;33m\u001b[0m\u001b[0m\n\u001b[1;32m--> 234\u001b[1;33m             \u001b[1;32mreturn\u001b[0m \u001b[0mnp\u001b[0m\u001b[1;33m.\u001b[0m\u001b[0mlinalg\u001b[0m\u001b[1;33m.\u001b[0m\u001b[0mpinv\u001b[0m\u001b[1;33m(\u001b[0m\u001b[0m_x\u001b[0m\u001b[1;33m)\u001b[0m\u001b[1;33m.\u001b[0m\u001b[0mdot\u001b[0m\u001b[1;33m(\u001b[0m\u001b[0m_y\u001b[0m\u001b[1;33m)\u001b[0m\u001b[1;33m\u001b[0m\u001b[1;33m\u001b[0m\u001b[0m\n\u001b[0m\u001b[0;32m    235\u001b[0m \u001b[1;33m\u001b[0m\u001b[0m\n\u001b[0;32m    236\u001b[0m         \u001b[0mX\u001b[0m\u001b[1;33m,\u001b[0m \u001b[0my\u001b[0m \u001b[1;33m=\u001b[0m \u001b[0mnp\u001b[0m\u001b[1;33m.\u001b[0m\u001b[0mc_\u001b[0m\u001b[1;33m[\u001b[0m\u001b[0mnp\u001b[0m\u001b[1;33m.\u001b[0m\u001b[0mones\u001b[0m\u001b[1;33m(\u001b[0m\u001b[0mlen\u001b[0m\u001b[1;33m(\u001b[0m\u001b[0mself\u001b[0m\u001b[1;33m.\u001b[0m\u001b[0mx\u001b[0m\u001b[1;33m)\u001b[0m\u001b[1;33m)\u001b[0m\u001b[1;33m,\u001b[0m \u001b[0mself\u001b[0m\u001b[1;33m.\u001b[0m\u001b[0mx\u001b[0m\u001b[1;33m]\u001b[0m\u001b[1;33m,\u001b[0m \u001b[0mself\u001b[0m\u001b[1;33m.\u001b[0m\u001b[0my\u001b[0m\u001b[1;33m\u001b[0m\u001b[1;33m\u001b[0m\u001b[0m\n",
      "\u001b[1;32m<__array_function__ internals>\u001b[0m in \u001b[0;36mpinv\u001b[1;34m(*args, **kwargs)\u001b[0m\n",
      "\u001b[1;32m~\\Anaconda3\\lib\\site-packages\\numpy\\linalg\\linalg.py\u001b[0m in \u001b[0;36mpinv\u001b[1;34m(a, rcond, hermitian)\u001b[0m\n\u001b[0;32m   2001\u001b[0m         \u001b[1;32mreturn\u001b[0m \u001b[0mwrap\u001b[0m\u001b[1;33m(\u001b[0m\u001b[0mres\u001b[0m\u001b[1;33m)\u001b[0m\u001b[1;33m\u001b[0m\u001b[1;33m\u001b[0m\u001b[0m\n\u001b[0;32m   2002\u001b[0m     \u001b[0ma\u001b[0m \u001b[1;33m=\u001b[0m \u001b[0ma\u001b[0m\u001b[1;33m.\u001b[0m\u001b[0mconjugate\u001b[0m\u001b[1;33m(\u001b[0m\u001b[1;33m)\u001b[0m\u001b[1;33m\u001b[0m\u001b[1;33m\u001b[0m\u001b[0m\n\u001b[1;32m-> 2003\u001b[1;33m     \u001b[0mu\u001b[0m\u001b[1;33m,\u001b[0m \u001b[0ms\u001b[0m\u001b[1;33m,\u001b[0m \u001b[0mvt\u001b[0m \u001b[1;33m=\u001b[0m \u001b[0msvd\u001b[0m\u001b[1;33m(\u001b[0m\u001b[0ma\u001b[0m\u001b[1;33m,\u001b[0m \u001b[0mfull_matrices\u001b[0m\u001b[1;33m=\u001b[0m\u001b[1;32mFalse\u001b[0m\u001b[1;33m,\u001b[0m \u001b[0mhermitian\u001b[0m\u001b[1;33m=\u001b[0m\u001b[0mhermitian\u001b[0m\u001b[1;33m)\u001b[0m\u001b[1;33m\u001b[0m\u001b[1;33m\u001b[0m\u001b[0m\n\u001b[0m\u001b[0;32m   2004\u001b[0m \u001b[1;33m\u001b[0m\u001b[0m\n\u001b[0;32m   2005\u001b[0m     \u001b[1;31m# discard small singular values\u001b[0m\u001b[1;33m\u001b[0m\u001b[1;33m\u001b[0m\u001b[1;33m\u001b[0m\u001b[0m\n",
      "\u001b[1;32m<__array_function__ internals>\u001b[0m in \u001b[0;36msvd\u001b[1;34m(*args, **kwargs)\u001b[0m\n",
      "\u001b[1;32m~\\Anaconda3\\lib\\site-packages\\numpy\\linalg\\linalg.py\u001b[0m in \u001b[0;36msvd\u001b[1;34m(a, full_matrices, compute_uv, hermitian)\u001b[0m\n\u001b[0;32m   1659\u001b[0m \u001b[1;33m\u001b[0m\u001b[0m\n\u001b[0;32m   1660\u001b[0m         \u001b[0msignature\u001b[0m \u001b[1;33m=\u001b[0m \u001b[1;34m'D->DdD'\u001b[0m \u001b[1;32mif\u001b[0m \u001b[0misComplexType\u001b[0m\u001b[1;33m(\u001b[0m\u001b[0mt\u001b[0m\u001b[1;33m)\u001b[0m \u001b[1;32melse\u001b[0m \u001b[1;34m'd->ddd'\u001b[0m\u001b[1;33m\u001b[0m\u001b[1;33m\u001b[0m\u001b[0m\n\u001b[1;32m-> 1661\u001b[1;33m         \u001b[0mu\u001b[0m\u001b[1;33m,\u001b[0m \u001b[0ms\u001b[0m\u001b[1;33m,\u001b[0m \u001b[0mvh\u001b[0m \u001b[1;33m=\u001b[0m \u001b[0mgufunc\u001b[0m\u001b[1;33m(\u001b[0m\u001b[0ma\u001b[0m\u001b[1;33m,\u001b[0m \u001b[0msignature\u001b[0m\u001b[1;33m=\u001b[0m\u001b[0msignature\u001b[0m\u001b[1;33m,\u001b[0m \u001b[0mextobj\u001b[0m\u001b[1;33m=\u001b[0m\u001b[0mextobj\u001b[0m\u001b[1;33m)\u001b[0m\u001b[1;33m\u001b[0m\u001b[1;33m\u001b[0m\u001b[0m\n\u001b[0m\u001b[0;32m   1662\u001b[0m         \u001b[0mu\u001b[0m \u001b[1;33m=\u001b[0m \u001b[0mu\u001b[0m\u001b[1;33m.\u001b[0m\u001b[0mastype\u001b[0m\u001b[1;33m(\u001b[0m\u001b[0mresult_t\u001b[0m\u001b[1;33m,\u001b[0m \u001b[0mcopy\u001b[0m\u001b[1;33m=\u001b[0m\u001b[1;32mFalse\u001b[0m\u001b[1;33m)\u001b[0m\u001b[1;33m\u001b[0m\u001b[1;33m\u001b[0m\u001b[0m\n\u001b[0;32m   1663\u001b[0m         \u001b[0ms\u001b[0m \u001b[1;33m=\u001b[0m \u001b[0ms\u001b[0m\u001b[1;33m.\u001b[0m\u001b[0mastype\u001b[0m\u001b[1;33m(\u001b[0m\u001b[0m_realType\u001b[0m\u001b[1;33m(\u001b[0m\u001b[0mresult_t\u001b[0m\u001b[1;33m)\u001b[0m\u001b[1;33m,\u001b[0m \u001b[0mcopy\u001b[0m\u001b[1;33m=\u001b[0m\u001b[1;32mFalse\u001b[0m\u001b[1;33m)\u001b[0m\u001b[1;33m\u001b[0m\u001b[1;33m\u001b[0m\u001b[0m\n",
      "\u001b[1;31mTypeError\u001b[0m: No loop matching the specified signature and casting was found for ufunc svd_n_s"
     ]
    },
    {
     "data": {
      "image/png": "[encoded data removed]",
      "text/plain": [
       "<Figure size 864x432 with 2 Axes>"
      ]
     },
     "metadata": {
      "needs_background": "light"
     },
     "output_type": "display_data"
    }
   ],
   "source": [
    "\n",
    "\n",
    "f, ax = plt.subplots(nrows=1, ncols=2, figsize=(12,6))\n",
    "\n",
    "sns.regplot(x = sentiment, y = daily_ret, order = 1, ax = ax[0])\n",
    "ax[0].set_ylabel('Daily return', fontsize = 12)\n",
    "ax[0].set_xlabel('Sentiment', fontsize = 12)\n",
    "\n",
    "sns.regplot(x = sentiment, y = weekly_ret, order = 1, ax = ax[1])\n",
    "ax[1].set_ylabel('Weekly return', fontsize = 12)\n",
    "ax[1].set_xlabel('Sentiment', fontsize = 12)\n",
    "plt.show()"
   ]
  },
  {
   "cell_type": "code",
   "execution_count": null,
   "metadata": {},
   "outputs": [],
   "source": []
  },
  {
   "cell_type": "code",
   "execution_count": null,
   "metadata": {},
   "outputs": [],
   "source": []
  },
  {
   "cell_type": "code",
   "execution_count": null,
   "metadata": {},
   "outputs": [],
   "source": []
  },
  {
   "cell_type": "markdown",
   "metadata": {},
   "source": [
    "# ESG Sentiment analysis"
   ]
  },
  {
   "cell_type": "code",
   "execution_count": 75,
   "metadata": {},
   "outputs": [
    {
     "name": "stdout",
     "output_type": "stream",
     "text": [
      "Positive\n"
     ]
    }
   ],
   "source": [
    "sentiment.util.demo_liu_hu_lexicon(' '.join(keywords), plot=False)"
   ]
  },
  {
   "cell_type": "code",
   "execution_count": 65,
   "metadata": {},
   "outputs": [],
   "source": [
    "tokens = word_tokenize(text)\n",
    "punctuations = ['(',')',';',':','[',']',',']\n",
    "stop_words = stopwords.words('english')\n",
    "keywords = [word for word in tokens if not word in stop_words and not word in punctuations]"
   ]
  },
  {
   "cell_type": "code",
   "execution_count": 67,
   "metadata": {},
   "outputs": [
    {
     "ename": "KeyboardInterrupt",
     "evalue": "",
     "output_type": "error",
     "traceback": [
      "\u001b[1;31m---------------------------------------------------------------------------\u001b[0m",
      "\u001b[1;31mKeyboardInterrupt\u001b[0m                         Traceback (most recent call last)",
      "\u001b[1;32m<ipython-input-67-75a21185f199>\u001b[0m in \u001b[0;36m<module>\u001b[1;34m\u001b[0m\n\u001b[0;32m      1\u001b[0m \u001b[0mfilename\u001b[0m \u001b[1;33m=\u001b[0m \u001b[0mdata\u001b[0m\u001b[1;33m.\u001b[0m\u001b[0mfilename\u001b[0m\u001b[1;33m[\u001b[0m\u001b[1;36m0\u001b[0m\u001b[1;33m]\u001b[0m\u001b[1;33m\u001b[0m\u001b[1;33m\u001b[0m\u001b[0m\n\u001b[1;32m----> 2\u001b[1;33m \u001b[0mtext\u001b[0m \u001b[1;33m=\u001b[0m \u001b[0mread_report\u001b[0m\u001b[1;33m(\u001b[0m\u001b[0mfilename\u001b[0m\u001b[1;33m)\u001b[0m\u001b[1;33m\u001b[0m\u001b[1;33m\u001b[0m\u001b[0m\n\u001b[0m\u001b[0;32m      3\u001b[0m \u001b[0msentiment\u001b[0m\u001b[1;33m.\u001b[0m\u001b[0mutil\u001b[0m\u001b[1;33m.\u001b[0m\u001b[0mdemo_liu_hu_lexicon\u001b[0m\u001b[1;33m(\u001b[0m\u001b[0mkeywords\u001b[0m\u001b[1;33m,\u001b[0m \u001b[0mplot\u001b[0m\u001b[1;33m=\u001b[0m\u001b[1;32mFalse\u001b[0m\u001b[1;33m)\u001b[0m\u001b[1;33m\u001b[0m\u001b[1;33m\u001b[0m\u001b[0m\n",
      "\u001b[1;32m<ipython-input-45-1b1f2bfe82a4>\u001b[0m in \u001b[0;36mread_report\u001b[1;34m(report)\u001b[0m\n\u001b[0;32m      7\u001b[0m         \u001b[0mdevice\u001b[0m \u001b[1;33m=\u001b[0m \u001b[0mTextConverter\u001b[0m\u001b[1;33m(\u001b[0m\u001b[0mrsrcmgr\u001b[0m\u001b[1;33m,\u001b[0m \u001b[0moutput_string\u001b[0m\u001b[1;33m,\u001b[0m \u001b[0mlaparams\u001b[0m\u001b[1;33m=\u001b[0m\u001b[0mLAParams\u001b[0m\u001b[1;33m(\u001b[0m\u001b[1;33m)\u001b[0m\u001b[1;33m)\u001b[0m\u001b[1;33m\u001b[0m\u001b[1;33m\u001b[0m\u001b[0m\n\u001b[0;32m      8\u001b[0m         \u001b[0minterpreter\u001b[0m \u001b[1;33m=\u001b[0m \u001b[0mPDFPageInterpreter\u001b[0m\u001b[1;33m(\u001b[0m\u001b[0mrsrcmgr\u001b[0m\u001b[1;33m,\u001b[0m \u001b[0mdevice\u001b[0m\u001b[1;33m)\u001b[0m\u001b[1;33m\u001b[0m\u001b[1;33m\u001b[0m\u001b[0m\n\u001b[1;32m----> 9\u001b[1;33m         \u001b[1;32mfor\u001b[0m \u001b[0mpage\u001b[0m \u001b[1;32min\u001b[0m \u001b[0mPDFPage\u001b[0m\u001b[1;33m.\u001b[0m\u001b[0mcreate_pages\u001b[0m\u001b[1;33m(\u001b[0m\u001b[0mdoc\u001b[0m\u001b[1;33m)\u001b[0m\u001b[1;33m:\u001b[0m\u001b[1;33m\u001b[0m\u001b[1;33m\u001b[0m\u001b[0m\n\u001b[0m\u001b[0;32m     10\u001b[0m             \u001b[0minterpreter\u001b[0m\u001b[1;33m.\u001b[0m\u001b[0mprocess_page\u001b[0m\u001b[1;33m(\u001b[0m\u001b[0mpage\u001b[0m\u001b[1;33m)\u001b[0m\u001b[1;33m\u001b[0m\u001b[1;33m\u001b[0m\u001b[0m\n\u001b[0;32m     11\u001b[0m     \u001b[0mtext\u001b[0m \u001b[1;33m=\u001b[0m \u001b[0moutput_string\u001b[0m\u001b[1;33m.\u001b[0m\u001b[0mgetvalue\u001b[0m\u001b[1;33m(\u001b[0m\u001b[1;33m)\u001b[0m\u001b[1;33m\u001b[0m\u001b[1;33m\u001b[0m\u001b[0m\n",
      "\u001b[1;32m~\\Anaconda3\\lib\\site-packages\\pdfminer\\pdfpage.py\u001b[0m in \u001b[0;36mcreate_pages\u001b[1;34m(cls, document)\u001b[0m\n\u001b[0;32m    104\u001b[0m             \u001b[0mobjects\u001b[0m \u001b[1;33m=\u001b[0m \u001b[0msearch\u001b[0m\u001b[1;33m(\u001b[0m\u001b[0mdocument\u001b[0m\u001b[1;33m.\u001b[0m\u001b[0mcatalog\u001b[0m\u001b[1;33m[\u001b[0m\u001b[1;34m'Pages'\u001b[0m\u001b[1;33m]\u001b[0m\u001b[1;33m,\u001b[0m \u001b[0mdocument\u001b[0m\u001b[1;33m.\u001b[0m\u001b[0mcatalog\u001b[0m\u001b[1;33m)\u001b[0m\u001b[1;33m\u001b[0m\u001b[1;33m\u001b[0m\u001b[0m\n\u001b[0;32m    105\u001b[0m             \u001b[1;32mfor\u001b[0m \u001b[1;33m(\u001b[0m\u001b[0mobjid\u001b[0m\u001b[1;33m,\u001b[0m \u001b[0mtree\u001b[0m\u001b[1;33m)\u001b[0m \u001b[1;32min\u001b[0m \u001b[0mobjects\u001b[0m\u001b[1;33m:\u001b[0m\u001b[1;33m\u001b[0m\u001b[1;33m\u001b[0m\u001b[0m\n\u001b[1;32m--> 106\u001b[1;33m                 \u001b[1;32myield\u001b[0m \u001b[0mcls\u001b[0m\u001b[1;33m(\u001b[0m\u001b[0mdocument\u001b[0m\u001b[1;33m,\u001b[0m \u001b[0mobjid\u001b[0m\u001b[1;33m,\u001b[0m \u001b[0mtree\u001b[0m\u001b[1;33m)\u001b[0m\u001b[1;33m\u001b[0m\u001b[1;33m\u001b[0m\u001b[0m\n\u001b[0m\u001b[0;32m    107\u001b[0m                 \u001b[0mpages\u001b[0m \u001b[1;33m=\u001b[0m \u001b[1;32mTrue\u001b[0m\u001b[1;33m\u001b[0m\u001b[1;33m\u001b[0m\u001b[0m\n\u001b[0;32m    108\u001b[0m         \u001b[1;32mif\u001b[0m \u001b[1;32mnot\u001b[0m \u001b[0mpages\u001b[0m\u001b[1;33m:\u001b[0m\u001b[1;33m\u001b[0m\u001b[1;33m\u001b[0m\u001b[0m\n",
      "\u001b[1;32m~\\Anaconda3\\lib\\site-packages\\pdfminer\\pdfpage.py\u001b[0m in \u001b[0;36m__init__\u001b[1;34m(self, doc, pageid, attrs)\u001b[0m\n\u001b[0;32m     62\u001b[0m         \u001b[0mself\u001b[0m\u001b[1;33m.\u001b[0m\u001b[0mbeads\u001b[0m \u001b[1;33m=\u001b[0m \u001b[0mself\u001b[0m\u001b[1;33m.\u001b[0m\u001b[0mattrs\u001b[0m\u001b[1;33m.\u001b[0m\u001b[0mget\u001b[0m\u001b[1;33m(\u001b[0m\u001b[1;34m'B'\u001b[0m\u001b[1;33m)\u001b[0m\u001b[1;33m\u001b[0m\u001b[1;33m\u001b[0m\u001b[0m\n\u001b[0;32m     63\u001b[0m         \u001b[1;32mif\u001b[0m \u001b[1;34m'Contents'\u001b[0m \u001b[1;32min\u001b[0m \u001b[0mself\u001b[0m\u001b[1;33m.\u001b[0m\u001b[0mattrs\u001b[0m\u001b[1;33m:\u001b[0m\u001b[1;33m\u001b[0m\u001b[1;33m\u001b[0m\u001b[0m\n\u001b[1;32m---> 64\u001b[1;33m             \u001b[0mcontents\u001b[0m \u001b[1;33m=\u001b[0m \u001b[0mresolve1\u001b[0m\u001b[1;33m(\u001b[0m\u001b[0mself\u001b[0m\u001b[1;33m.\u001b[0m\u001b[0mattrs\u001b[0m\u001b[1;33m[\u001b[0m\u001b[1;34m'Contents'\u001b[0m\u001b[1;33m]\u001b[0m\u001b[1;33m)\u001b[0m\u001b[1;33m\u001b[0m\u001b[1;33m\u001b[0m\u001b[0m\n\u001b[0m\u001b[0;32m     65\u001b[0m         \u001b[1;32melse\u001b[0m\u001b[1;33m:\u001b[0m\u001b[1;33m\u001b[0m\u001b[1;33m\u001b[0m\u001b[0m\n\u001b[0;32m     66\u001b[0m             \u001b[0mcontents\u001b[0m \u001b[1;33m=\u001b[0m \u001b[1;33m[\u001b[0m\u001b[1;33m]\u001b[0m\u001b[1;33m\u001b[0m\u001b[1;33m\u001b[0m\u001b[0m\n",
      "\u001b[1;32m~\\Anaconda3\\lib\\site-packages\\pdfminer\\pdftypes.py\u001b[0m in \u001b[0;36mresolve1\u001b[1;34m(x, default)\u001b[0m\n\u001b[0;32m     80\u001b[0m     \"\"\"\n\u001b[0;32m     81\u001b[0m     \u001b[1;32mwhile\u001b[0m \u001b[0misinstance\u001b[0m\u001b[1;33m(\u001b[0m\u001b[0mx\u001b[0m\u001b[1;33m,\u001b[0m \u001b[0mPDFObjRef\u001b[0m\u001b[1;33m)\u001b[0m\u001b[1;33m:\u001b[0m\u001b[1;33m\u001b[0m\u001b[1;33m\u001b[0m\u001b[0m\n\u001b[1;32m---> 82\u001b[1;33m         \u001b[0mx\u001b[0m \u001b[1;33m=\u001b[0m \u001b[0mx\u001b[0m\u001b[1;33m.\u001b[0m\u001b[0mresolve\u001b[0m\u001b[1;33m(\u001b[0m\u001b[0mdefault\u001b[0m\u001b[1;33m=\u001b[0m\u001b[0mdefault\u001b[0m\u001b[1;33m)\u001b[0m\u001b[1;33m\u001b[0m\u001b[1;33m\u001b[0m\u001b[0m\n\u001b[0m\u001b[0;32m     83\u001b[0m     \u001b[1;32mreturn\u001b[0m \u001b[0mx\u001b[0m\u001b[1;33m\u001b[0m\u001b[1;33m\u001b[0m\u001b[0m\n\u001b[0;32m     84\u001b[0m \u001b[1;33m\u001b[0m\u001b[0m\n",
      "\u001b[1;32m~\\Anaconda3\\lib\\site-packages\\pdfminer\\pdftypes.py\u001b[0m in \u001b[0;36mresolve\u001b[1;34m(self, default)\u001b[0m\n\u001b[0;32m     68\u001b[0m     \u001b[1;32mdef\u001b[0m \u001b[0mresolve\u001b[0m\u001b[1;33m(\u001b[0m\u001b[0mself\u001b[0m\u001b[1;33m,\u001b[0m \u001b[0mdefault\u001b[0m\u001b[1;33m=\u001b[0m\u001b[1;32mNone\u001b[0m\u001b[1;33m)\u001b[0m\u001b[1;33m:\u001b[0m\u001b[1;33m\u001b[0m\u001b[1;33m\u001b[0m\u001b[0m\n\u001b[0;32m     69\u001b[0m         \u001b[1;32mtry\u001b[0m\u001b[1;33m:\u001b[0m\u001b[1;33m\u001b[0m\u001b[1;33m\u001b[0m\u001b[0m\n\u001b[1;32m---> 70\u001b[1;33m             \u001b[1;32mreturn\u001b[0m \u001b[0mself\u001b[0m\u001b[1;33m.\u001b[0m\u001b[0mdoc\u001b[0m\u001b[1;33m.\u001b[0m\u001b[0mgetobj\u001b[0m\u001b[1;33m(\u001b[0m\u001b[0mself\u001b[0m\u001b[1;33m.\u001b[0m\u001b[0mobjid\u001b[0m\u001b[1;33m)\u001b[0m\u001b[1;33m\u001b[0m\u001b[1;33m\u001b[0m\u001b[0m\n\u001b[0m\u001b[0;32m     71\u001b[0m         \u001b[1;32mexcept\u001b[0m \u001b[0mPDFObjectNotFound\u001b[0m\u001b[1;33m:\u001b[0m\u001b[1;33m\u001b[0m\u001b[1;33m\u001b[0m\u001b[0m\n\u001b[0;32m     72\u001b[0m             \u001b[1;32mreturn\u001b[0m \u001b[0mdefault\u001b[0m\u001b[1;33m\u001b[0m\u001b[1;33m\u001b[0m\u001b[0m\n",
      "\u001b[1;32m~\\Anaconda3\\lib\\site-packages\\pdfminer\\pdfdocument.py\u001b[0m in \u001b[0;36mgetobj\u001b[1;34m(self, objid)\u001b[0m\n\u001b[0;32m    705\u001b[0m                         \u001b[0mobj\u001b[0m \u001b[1;33m=\u001b[0m \u001b[0mself\u001b[0m\u001b[1;33m.\u001b[0m\u001b[0m_getobj_objstm\u001b[0m\u001b[1;33m(\u001b[0m\u001b[0mstream\u001b[0m\u001b[1;33m,\u001b[0m \u001b[0mindex\u001b[0m\u001b[1;33m,\u001b[0m \u001b[0mobjid\u001b[0m\u001b[1;33m)\u001b[0m\u001b[1;33m\u001b[0m\u001b[1;33m\u001b[0m\u001b[0m\n\u001b[0;32m    706\u001b[0m                     \u001b[1;32melse\u001b[0m\u001b[1;33m:\u001b[0m\u001b[1;33m\u001b[0m\u001b[1;33m\u001b[0m\u001b[0m\n\u001b[1;32m--> 707\u001b[1;33m                         \u001b[0mobj\u001b[0m \u001b[1;33m=\u001b[0m \u001b[0mself\u001b[0m\u001b[1;33m.\u001b[0m\u001b[0m_getobj_parse\u001b[0m\u001b[1;33m(\u001b[0m\u001b[0mindex\u001b[0m\u001b[1;33m,\u001b[0m \u001b[0mobjid\u001b[0m\u001b[1;33m)\u001b[0m\u001b[1;33m\u001b[0m\u001b[1;33m\u001b[0m\u001b[0m\n\u001b[0m\u001b[0;32m    708\u001b[0m                         \u001b[1;32mif\u001b[0m \u001b[0mself\u001b[0m\u001b[1;33m.\u001b[0m\u001b[0mdecipher\u001b[0m\u001b[1;33m:\u001b[0m\u001b[1;33m\u001b[0m\u001b[1;33m\u001b[0m\u001b[0m\n\u001b[0;32m    709\u001b[0m                             obj = decipher_all(self.decipher, objid, genno,\n",
      "\u001b[1;32m~\\Anaconda3\\lib\\site-packages\\pdfminer\\pdfdocument.py\u001b[0m in \u001b[0;36m_getobj_parse\u001b[1;34m(self, pos, objid)\u001b[0m\n\u001b[0;32m    679\u001b[0m         \u001b[1;32mif\u001b[0m \u001b[0mkwd\u001b[0m \u001b[1;33m!=\u001b[0m \u001b[0mKWD\u001b[0m\u001b[1;33m(\u001b[0m\u001b[1;34mb'obj'\u001b[0m\u001b[1;33m)\u001b[0m\u001b[1;33m:\u001b[0m\u001b[1;33m\u001b[0m\u001b[1;33m\u001b[0m\u001b[0m\n\u001b[0;32m    680\u001b[0m             \u001b[1;32mraise\u001b[0m \u001b[0mPDFSyntaxError\u001b[0m\u001b[1;33m(\u001b[0m\u001b[1;34m'Invalid object spec: offset=%r'\u001b[0m \u001b[1;33m%\u001b[0m \u001b[0mpos\u001b[0m\u001b[1;33m)\u001b[0m\u001b[1;33m\u001b[0m\u001b[1;33m\u001b[0m\u001b[0m\n\u001b[1;32m--> 681\u001b[1;33m         \u001b[1;33m(\u001b[0m\u001b[0m_\u001b[0m\u001b[1;33m,\u001b[0m \u001b[0mobj\u001b[0m\u001b[1;33m)\u001b[0m \u001b[1;33m=\u001b[0m \u001b[0mself\u001b[0m\u001b[1;33m.\u001b[0m\u001b[0m_parser\u001b[0m\u001b[1;33m.\u001b[0m\u001b[0mnextobject\u001b[0m\u001b[1;33m(\u001b[0m\u001b[1;33m)\u001b[0m\u001b[1;33m\u001b[0m\u001b[1;33m\u001b[0m\u001b[0m\n\u001b[0m\u001b[0;32m    682\u001b[0m         \u001b[1;32mreturn\u001b[0m \u001b[0mobj\u001b[0m\u001b[1;33m\u001b[0m\u001b[1;33m\u001b[0m\u001b[0m\n\u001b[0;32m    683\u001b[0m \u001b[1;33m\u001b[0m\u001b[0m\n",
      "\u001b[1;32m~\\Anaconda3\\lib\\site-packages\\pdfminer\\psparser.py\u001b[0m in \u001b[0;36mnextobject\u001b[1;34m(self)\u001b[0m\n\u001b[0;32m    608\u001b[0m                 log.debug('do_keyword: pos=%r, token=%r, stack=%r', pos,\n\u001b[0;32m    609\u001b[0m                           token, self.curstack)\n\u001b[1;32m--> 610\u001b[1;33m                 \u001b[0mself\u001b[0m\u001b[1;33m.\u001b[0m\u001b[0mdo_keyword\u001b[0m\u001b[1;33m(\u001b[0m\u001b[0mpos\u001b[0m\u001b[1;33m,\u001b[0m \u001b[0mtoken\u001b[0m\u001b[1;33m)\u001b[0m\u001b[1;33m\u001b[0m\u001b[1;33m\u001b[0m\u001b[0m\n\u001b[0m\u001b[0;32m    611\u001b[0m             \u001b[1;32melse\u001b[0m\u001b[1;33m:\u001b[0m\u001b[1;33m\u001b[0m\u001b[1;33m\u001b[0m\u001b[0m\n\u001b[0;32m    612\u001b[0m                 log.error('unknown token: pos=%r, token=%r, stack=%r', pos,\n",
      "\u001b[1;32m~\\Anaconda3\\lib\\site-packages\\pdfminer\\pdfparser.py\u001b[0m in \u001b[0;36mdo_keyword\u001b[1;34m(self, pos, token)\u001b[0m\n\u001b[0;32m    101\u001b[0m             \u001b[1;32mwhile\u001b[0m \u001b[1;36m1\u001b[0m\u001b[1;33m:\u001b[0m\u001b[1;33m\u001b[0m\u001b[1;33m\u001b[0m\u001b[0m\n\u001b[0;32m    102\u001b[0m                 \u001b[1;32mtry\u001b[0m\u001b[1;33m:\u001b[0m\u001b[1;33m\u001b[0m\u001b[1;33m\u001b[0m\u001b[0m\n\u001b[1;32m--> 103\u001b[1;33m                     \u001b[1;33m(\u001b[0m\u001b[0mlinepos\u001b[0m\u001b[1;33m,\u001b[0m \u001b[0mline\u001b[0m\u001b[1;33m)\u001b[0m \u001b[1;33m=\u001b[0m \u001b[0mself\u001b[0m\u001b[1;33m.\u001b[0m\u001b[0mnextline\u001b[0m\u001b[1;33m(\u001b[0m\u001b[1;33m)\u001b[0m\u001b[1;33m\u001b[0m\u001b[1;33m\u001b[0m\u001b[0m\n\u001b[0m\u001b[0;32m    104\u001b[0m                 \u001b[1;32mexcept\u001b[0m \u001b[0mPSEOF\u001b[0m\u001b[1;33m:\u001b[0m\u001b[1;33m\u001b[0m\u001b[1;33m\u001b[0m\u001b[0m\n\u001b[0;32m    105\u001b[0m                     \u001b[1;32mif\u001b[0m \u001b[0msettings\u001b[0m\u001b[1;33m.\u001b[0m\u001b[0mSTRICT\u001b[0m\u001b[1;33m:\u001b[0m\u001b[1;33m\u001b[0m\u001b[1;33m\u001b[0m\u001b[0m\n",
      "\u001b[1;32m~\\Anaconda3\\lib\\site-packages\\pdfminer\\psparser.py\u001b[0m in \u001b[0;36mnextline\u001b[1;34m(self)\u001b[0m\n\u001b[0;32m    230\u001b[0m         \u001b[0meol\u001b[0m \u001b[1;33m=\u001b[0m \u001b[1;32mFalse\u001b[0m\u001b[1;33m\u001b[0m\u001b[1;33m\u001b[0m\u001b[0m\n\u001b[0;32m    231\u001b[0m         \u001b[1;32mwhile\u001b[0m \u001b[1;36m1\u001b[0m\u001b[1;33m:\u001b[0m\u001b[1;33m\u001b[0m\u001b[1;33m\u001b[0m\u001b[0m\n\u001b[1;32m--> 232\u001b[1;33m             \u001b[0mself\u001b[0m\u001b[1;33m.\u001b[0m\u001b[0mfillbuf\u001b[0m\u001b[1;33m(\u001b[0m\u001b[1;33m)\u001b[0m\u001b[1;33m\u001b[0m\u001b[1;33m\u001b[0m\u001b[0m\n\u001b[0m\u001b[0;32m    233\u001b[0m             \u001b[1;32mif\u001b[0m \u001b[0meol\u001b[0m\u001b[1;33m:\u001b[0m\u001b[1;33m\u001b[0m\u001b[1;33m\u001b[0m\u001b[0m\n\u001b[0;32m    234\u001b[0m                 \u001b[0mc\u001b[0m \u001b[1;33m=\u001b[0m \u001b[0mself\u001b[0m\u001b[1;33m.\u001b[0m\u001b[0mbuf\u001b[0m\u001b[1;33m[\u001b[0m\u001b[0mself\u001b[0m\u001b[1;33m.\u001b[0m\u001b[0mcharpos\u001b[0m\u001b[1;33m:\u001b[0m\u001b[0mself\u001b[0m\u001b[1;33m.\u001b[0m\u001b[0mcharpos\u001b[0m\u001b[1;33m+\u001b[0m\u001b[1;36m1\u001b[0m\u001b[1;33m]\u001b[0m\u001b[1;33m\u001b[0m\u001b[1;33m\u001b[0m\u001b[0m\n",
      "\u001b[1;32m~\\Anaconda3\\lib\\site-packages\\pdfminer\\psparser.py\u001b[0m in \u001b[0;36mfillbuf\u001b[1;34m(self)\u001b[0m\n\u001b[0;32m    217\u001b[0m         \u001b[1;31m# fetch next chunk.\u001b[0m\u001b[1;33m\u001b[0m\u001b[1;33m\u001b[0m\u001b[1;33m\u001b[0m\u001b[0m\n\u001b[0;32m    218\u001b[0m         \u001b[0mself\u001b[0m\u001b[1;33m.\u001b[0m\u001b[0mbufpos\u001b[0m \u001b[1;33m=\u001b[0m \u001b[0mself\u001b[0m\u001b[1;33m.\u001b[0m\u001b[0mfp\u001b[0m\u001b[1;33m.\u001b[0m\u001b[0mtell\u001b[0m\u001b[1;33m(\u001b[0m\u001b[1;33m)\u001b[0m\u001b[1;33m\u001b[0m\u001b[1;33m\u001b[0m\u001b[0m\n\u001b[1;32m--> 219\u001b[1;33m         \u001b[0mself\u001b[0m\u001b[1;33m.\u001b[0m\u001b[0mbuf\u001b[0m \u001b[1;33m=\u001b[0m \u001b[0mself\u001b[0m\u001b[1;33m.\u001b[0m\u001b[0mfp\u001b[0m\u001b[1;33m.\u001b[0m\u001b[0mread\u001b[0m\u001b[1;33m(\u001b[0m\u001b[0mself\u001b[0m\u001b[1;33m.\u001b[0m\u001b[0mBUFSIZ\u001b[0m\u001b[1;33m)\u001b[0m\u001b[1;33m\u001b[0m\u001b[1;33m\u001b[0m\u001b[0m\n\u001b[0m\u001b[0;32m    220\u001b[0m         \u001b[1;32mif\u001b[0m \u001b[1;32mnot\u001b[0m \u001b[0mself\u001b[0m\u001b[1;33m.\u001b[0m\u001b[0mbuf\u001b[0m\u001b[1;33m:\u001b[0m\u001b[1;33m\u001b[0m\u001b[1;33m\u001b[0m\u001b[0m\n\u001b[0;32m    221\u001b[0m             \u001b[1;32mraise\u001b[0m \u001b[0mPSEOF\u001b[0m\u001b[1;33m(\u001b[0m\u001b[1;34m'Unexpected EOF'\u001b[0m\u001b[1;33m)\u001b[0m\u001b[1;33m\u001b[0m\u001b[1;33m\u001b[0m\u001b[0m\n",
      "\u001b[1;31mKeyboardInterrupt\u001b[0m: "
     ]
    }
   ],
   "source": [
    "filename = data.filename[0]\n",
    "text = read_report(filename)\n",
    "sentiment.util.demo_liu_hu_lexicon(keywords, plot=False)"
   ]
  },
  {
   "cell_type": "code",
   "execution_count": 52,
   "metadata": {},
   "outputs": [],
   "source": []
  },
  {
   "cell_type": "markdown",
   "metadata": {},
   "source": [
    "# Regressions"
   ]
  },
  {
   "cell_type": "code",
   "execution_count": 197,
   "metadata": {},
   "outputs": [],
   "source": [
    "import statsmodels.api as sm\n",
    "from statsmodels.formula.api import ols"
   ]
  },
  {
   "cell_type": "code",
   "execution_count": 2,
   "metadata": {},
   "outputs": [],
   "source": [
    "file_name3 = r'C:\\Thesis\\Data\\MergedData.pkl'\n",
    "data3 = pd.read_pickle(file_name3)"
   ]
  },
  {
   "cell_type": "code",
   "execution_count": 4,
   "metadata": {},
   "outputs": [
    {
     "ename": "AttributeError",
     "evalue": "'DataFrame' object has no attribute 'positive'",
     "output_type": "error",
     "traceback": [
      "\u001b[1;31m---------------------------------------------------------------------------\u001b[0m",
      "\u001b[1;31mAttributeError\u001b[0m                            Traceback (most recent call last)",
      "\u001b[1;32m<ipython-input-4-af4321ce3aad>\u001b[0m in \u001b[0;36m<module>\u001b[1;34m\u001b[0m\n\u001b[1;32m----> 1\u001b[1;33m \u001b[0mdata3\u001b[0m\u001b[1;33m.\u001b[0m\u001b[0mpositive\u001b[0m\u001b[1;33m\u001b[0m\u001b[1;33m\u001b[0m\u001b[0m\n\u001b[0m",
      "\u001b[1;32m~\\Anaconda3\\lib\\site-packages\\pandas\\core\\generic.py\u001b[0m in \u001b[0;36m__getattr__\u001b[1;34m(self, name)\u001b[0m\n\u001b[0;32m   5137\u001b[0m             \u001b[1;32mif\u001b[0m \u001b[0mself\u001b[0m\u001b[1;33m.\u001b[0m\u001b[0m_info_axis\u001b[0m\u001b[1;33m.\u001b[0m\u001b[0m_can_hold_identifiers_and_holds_name\u001b[0m\u001b[1;33m(\u001b[0m\u001b[0mname\u001b[0m\u001b[1;33m)\u001b[0m\u001b[1;33m:\u001b[0m\u001b[1;33m\u001b[0m\u001b[1;33m\u001b[0m\u001b[0m\n\u001b[0;32m   5138\u001b[0m                 \u001b[1;32mreturn\u001b[0m \u001b[0mself\u001b[0m\u001b[1;33m[\u001b[0m\u001b[0mname\u001b[0m\u001b[1;33m]\u001b[0m\u001b[1;33m\u001b[0m\u001b[1;33m\u001b[0m\u001b[0m\n\u001b[1;32m-> 5139\u001b[1;33m             \u001b[1;32mreturn\u001b[0m \u001b[0mobject\u001b[0m\u001b[1;33m.\u001b[0m\u001b[0m__getattribute__\u001b[0m\u001b[1;33m(\u001b[0m\u001b[0mself\u001b[0m\u001b[1;33m,\u001b[0m \u001b[0mname\u001b[0m\u001b[1;33m)\u001b[0m\u001b[1;33m\u001b[0m\u001b[1;33m\u001b[0m\u001b[0m\n\u001b[0m\u001b[0;32m   5140\u001b[0m \u001b[1;33m\u001b[0m\u001b[0m\n\u001b[0;32m   5141\u001b[0m     \u001b[1;32mdef\u001b[0m \u001b[0m__setattr__\u001b[0m\u001b[1;33m(\u001b[0m\u001b[0mself\u001b[0m\u001b[1;33m,\u001b[0m \u001b[0mname\u001b[0m\u001b[1;33m:\u001b[0m \u001b[0mstr\u001b[0m\u001b[1;33m,\u001b[0m \u001b[0mvalue\u001b[0m\u001b[1;33m)\u001b[0m \u001b[1;33m->\u001b[0m \u001b[1;32mNone\u001b[0m\u001b[1;33m:\u001b[0m\u001b[1;33m\u001b[0m\u001b[1;33m\u001b[0m\u001b[0m\n",
      "\u001b[1;31mAttributeError\u001b[0m: 'DataFrame' object has no attribute 'positive'"
     ]
    }
   ],
   "source": []
  },
  {
   "cell_type": "code",
   "execution_count": 3,
   "metadata": {},
   "outputs": [
    {
     "data": {
      "text/plain": [
       "Index(['Company Common Name', 'Country of Headquarters',\n",
       "       'TRBC Economic Sector Name', 'TRBC Business Sector Name',\n",
       "       'TRBC Industry Group Name', 'TRBC Industry Name', 'Resource Use Score',\n",
       "       'Workforce Score', 'Human Rights Score', 'Community Score',\n",
       "       'Product Responsibility Score', 'Management Score',\n",
       "       'Shareholders Score', 'CSR Strategy Score', 'Social Pillar Score',\n",
       "       'Governance Pillar Score', 'Environmental Pillar Score',\n",
       "       'Employees, Prd/Prd Avg, FY', 'ESG Reporting Scope', 'Date', 'Page',\n",
       "       'Title', 'URL', 'ROA Total Assets, Percent',\n",
       "       'Pretax ROE Total Equity %', 'Total Return'],\n",
       "      dtype='object')"
      ]
     },
     "execution_count": 3,
     "metadata": {},
     "output_type": "execute_result"
    }
   ],
   "source": [
    "data3.columns"
   ]
  },
  {
   "cell_type": "code",
   "execution_count": 210,
   "metadata": {},
   "outputs": [],
   "source": [
    "regress = data3.iloc[:,[0,1,2,-1,-2,-12]]\n",
    "regress.columns = ['ROA', 'ROE', 'Return', 'Small', 'Report', 'Employees']"
   ]
  },
  {
   "cell_type": "code",
   "execution_count": null,
   "metadata": {},
   "outputs": [],
   "source": [
    "regress['Empl2']=regress.Employees**2\n",
    "regress['Empl3']=regress.Employees**3"
   ]
  },
  {
   "cell_type": "code",
   "execution_count": 223,
   "metadata": {},
   "outputs": [
    {
     "name": "stdout",
     "output_type": "stream",
     "text": [
      "                            OLS Regression Results                            \n",
      "==============================================================================\n",
      "Dep. Variable:                    ROE   R-squared:                       0.277\n",
      "Model:                            OLS   Adj. R-squared:                  0.270\n",
      "Method:                 Least Squares   F-statistic:                     1.732\n",
      "Date:                Fri, 30 Apr 2021   Prob (F-statistic):              0.142\n",
      "Time:                        19:44:13   Log-Likelihood:                -2307.2\n",
      "No. Observations:                 385   AIC:                             4624.\n",
      "Df Residuals:                     380   BIC:                             4644.\n",
      "Df Model:                           4                                         \n",
      "Covariance Type:                  HC0                                         \n",
      "================================================================================\n",
      "                   coef    std err          z      P>|z|      [0.025      0.975]\n",
      "--------------------------------------------------------------------------------\n",
      "Intercept      -41.2817     32.412     -1.274      0.203    -104.808      22.245\n",
      "Report          37.4198     26.054      1.436      0.151     -13.646      88.485\n",
      "Small           20.5734     16.235      1.267      0.205     -11.247      52.394\n",
      "Small:Report   -26.7554     18.994     -1.409      0.159     -63.982      10.471\n",
      "ROA              5.5798      2.861      1.950      0.051      -0.029      11.188\n",
      "==============================================================================\n",
      "Omnibus:                      818.676   Durbin-Watson:                   1.922\n",
      "Prob(Omnibus):                  0.000   Jarque-Bera (JB):          1194886.876\n",
      "Skew:                         -15.205   Prob(JB):                         0.00\n",
      "Kurtosis:                     274.223   Cond. No.                         66.0\n",
      "==============================================================================\n",
      "\n",
      "Notes:\n",
      "[1] Standard Errors are heteroscedasticity robust (HC0)\n"
     ]
    }
   ],
   "source": [
    "formula = 'ROE ~ Report + Small + Small*Report + ROA'\n",
    "\n",
    "model1 = ols(formula, regress)\n",
    "results1 = model1.fit(cov_type='HC0')\n",
    "print(results1.summary()"
   ]
  },
  {
   "cell_type": "code",
   "execution_count": 6,
   "metadata": {},
   "outputs": [],
   "source": [
    "import pysentiment2 as ps\n",
    "\n",
    "import urllib\n",
    "\n",
    "import pandas as pd\n",
    "\n",
    "from io import StringIO\n",
    "\n",
    "from pdfminer.converter import TextConverter\n",
    "from pdfminer.layout import LAParams\n",
    "from pdfminer.pdfdocument import PDFDocument\n",
    "from pdfminer.pdfinterp import PDFResourceManager, PDFPageInterpreter\n",
    "from pdfminer.pdfpage import PDFPage\n",
    "from pdfminer.pdfparser import PDFParser"
   ]
  },
  {
   "cell_type": "code",
   "execution_count": 25,
   "metadata": {},
   "outputs": [],
   "source": [
    "filename = r'C:\\Thesis\\Reports\\19WEHA.AS2020.pdf'\n",
    "\n",
    "text = read_report(filename)\n"
   ]
  },
  {
   "cell_type": "code",
   "execution_count": 21,
   "metadata": {},
   "outputs": [],
   "source": []
  },
  {
   "cell_type": "code",
   "execution_count": 22,
   "metadata": {},
   "outputs": [],
   "source": []
  },
  {
   "cell_type": "code",
   "execution_count": 23,
   "metadata": {},
   "outputs": [
    {
     "data": {
      "text/plain": [
       "{'Positive': 972,\n",
       " 'Negative': 852,\n",
       " 'Polarity': 0.06578947364814174,\n",
       " 'Subjectivity': 0.05391504832686249}"
      ]
     },
     "execution_count": 23,
     "metadata": {},
     "output_type": "execute_result"
    }
   ],
   "source": [
    "score1"
   ]
  },
  {
   "cell_type": "code",
   "execution_count": 24,
   "metadata": {},
   "outputs": [
    {
     "data": {
      "text/plain": [
       "{'Positive': 7807,\n",
       " 'Negative': 1545,\n",
       " 'Polarity': 0.6695893925716863,\n",
       " 'Subjectivity': 0.276432857430273}"
      ]
     },
     "execution_count": 24,
     "metadata": {},
     "output_type": "execute_result"
    }
   ],
   "source": [
    "score2"
   ]
  }
 ],
 "metadata": {
  "kernelspec": {
   "display_name": "Python 3 (ipykernel)",
   "language": "python",
   "name": "python3"
  },
  "language_info": {
   "codemirror_mode": {
    "name": "ipython",
    "version": 3
   },
   "file_extension": ".py",
   "mimetype": "text/x-python",
   "name": "python",
   "nbconvert_exporter": "python",
   "pygments_lexer": "ipython3",
   "version": "3.9.7"
  }
 },
 "nbformat": 4,
 "nbformat_minor": 2
}
